{
 "cells": [
  {
   "cell_type": "code",
   "execution_count": 1,
   "metadata": {
    "execution": {
     "iopub.execute_input": "2023-05-17T07:10:30.883066Z",
     "iopub.status.busy": "2023-05-17T07:10:30.882179Z",
     "iopub.status.idle": "2023-05-17T07:10:30.900401Z",
     "shell.execute_reply": "2023-05-17T07:10:30.898768Z",
     "shell.execute_reply.started": "2023-05-17T07:10:30.883027Z"
    }
   },
   "outputs": [
    {
     "name": "stderr",
     "output_type": "stream",
     "text": [
      "/tmp/ipykernel_548/3777615979.py:1: DeprecationWarning: Importing display from IPython.core.display is deprecated since IPython 7.14, please import from IPython display\n",
      "  from IPython.core.display import display, HTML\n"
     ]
    },
    {
     "data": {
      "text/html": [
       "<style>.container { width:100% !important; }</style>"
      ],
      "text/plain": [
       "<IPython.core.display.HTML object>"
      ]
     },
     "metadata": {},
     "output_type": "display_data"
    }
   ],
   "source": [
    "from IPython.core.display import display, HTML\n",
    "display(HTML(\"<style>.container { width:100% !important; }</style>\"))"
   ]
  },
  {
   "cell_type": "markdown",
   "metadata": {},
   "source": [
    "# IEEE-CIS Fraud Detection"
   ]
  },
  {
   "cell_type": "markdown",
   "metadata": {},
   "source": [
    "#### BY : Kai Jin  "
   ]
  },
  {
   "cell_type": "markdown",
   "metadata": {},
   "source": [
    "#### Student ID : 22011493"
   ]
  },
  {
   "cell_type": "markdown",
   "metadata": {},
   "source": [
    "## Table of Contents\n",
    "1. **Introduction**\n",
    "   1. Datasets used\n",
    "   2. Dataset sources\n",
    "2. **Executive Summary**\n",
    "   1. Load and analyse data\n",
    "   2. Data integration and analysis\n",
    "   3. Data cleansing\n",
    "   4. Feature Screening\n",
    "   5. Building the model\n",
    "3. **Conclusion**\n",
    "4. **Bibliography**"
   ]
  },
  {
   "cell_type": "markdown",
   "metadata": {},
   "source": [
    "# Introduction\n",
    "Although fraud prevention can be cumbersome, fraud prevention systems can save consumers millions of dollars each year by preventing them from losing money due to fraud and thus using them to protect their assets from fraud. Thus, this experiment attempts to improve the accuracy of fraud prevention systems by reducing the cumbersome user experience through more accurate fraud detection and more accurate determination of whether a transaction is fraudulent. Knn model, NAÏVE BAYES model, Cluster analysis model, and Random Forest model are used to determine the usefulness and accuracy of these models in this experiment."
   ]
  },
  {
   "cell_type": "markdown",
   "metadata": {},
   "source": [
    "#### Datasets used\n",
    "1. /kaggle/input/ieee-fraud-detection/test_identity.csv\n",
    "2. /kaggle/input/ieee-fraud-detection/test_transaction.csv\n",
    "3. /kaggle/input/ieee-fraud-detection/train_identity.csv\n",
    "4. /kaggle/input/ieee-fraud-detection/train_transaction.csv"
   ]
  },
  {
   "cell_type": "markdown",
   "metadata": {},
   "source": [
    "#### Dataset sources\n",
    "/kaggle/input/ieee-fraud-detection"
   ]
  },
  {
   "cell_type": "markdown",
   "metadata": {},
   "source": [
    "### Executive Summary"
   ]
  },
  {
   "cell_type": "markdown",
   "metadata": {},
   "source": [
    "##### Import tool configuration\n",
    "Import the required extension libraries, plotting tools, and datasets into the jupyter notebook, and perform exploratory data analysis (EDA) on the key questions raised by going through data cleaning, filtering, and plotting the data in the dataset.(The python version used is 3.11.2)"
   ]
  },
  {
   "cell_type": "code",
   "execution_count": 2,
   "metadata": {
    "_cell_guid": "b1076dfc-b9ad-4769-8c92-a6c4dae69d19",
    "_uuid": "8f2839f25d086af736a60e9eeb907d3b93b6e0e5",
    "execution": {
     "iopub.execute_input": "2023-05-17T07:10:30.908118Z",
     "iopub.status.busy": "2023-05-17T07:10:30.907678Z",
     "iopub.status.idle": "2023-05-17T07:10:32.534983Z",
     "shell.execute_reply": "2023-05-17T07:10:32.533598Z",
     "shell.execute_reply.started": "2023-05-17T07:10:30.908072Z"
    }
   },
   "outputs": [
    {
     "name": "stderr",
     "output_type": "stream",
     "text": [
      "/opt/conda/lib/python3.10/site-packages/scipy/__init__.py:146: UserWarning: A NumPy version >=1.16.5 and <1.23.0 is required for this version of SciPy (detected version 1.23.5\n",
      "  warnings.warn(f\"A NumPy version >={np_minversion} and <{np_maxversion}\"\n"
     ]
    },
    {
     "name": "stdout",
     "output_type": "stream",
     "text": [
      "CPU times: user 1.6 s, sys: 358 ms, total: 1.96 s\n",
      "Wall time: 1.61 s\n"
     ]
    }
   ],
   "source": [
    "%%time\n",
    "import numpy as np \n",
    "import pandas as pd \n",
    "import requests                 \n",
    "import matplotlib.pyplot as plt\n",
    "import json\n",
    "import statsmodels.api as sm\n",
    "import urllib\n",
    "import urllib.request\n",
    "import matplotlib as mpl\n",
    "import seaborn as sns\n",
    "import patsy\n",
    "import plotly\n",
    "import sys\n",
    "import plotly.graph_objects as go\n",
    "import plotly_express as px\n",
    "import statsmodels.formula.api as smf\n",
    "import os\n",
    "import csv\n",
    "from sklearn.metrics import silhouette_score\n",
    "from sklearn.cluster import KMeans\n",
    "from sklearn.preprocessing import StandardScaler\n",
    "from sklearn.model_selection import cross_validate, train_test_split\n",
    "from sklearn.preprocessing import MinMaxScaler\n",
    "from sklearn.model_selection import train_test_split\n",
    "from sklearn.naive_bayes import GaussianNB\n",
    "from sklearn.metrics import accuracy_score\n",
    "from sklearn.metrics import roc_auc_score\n",
    "from sklearn.model_selection import cross_val_score\n",
    "from scipy.stats import zscore\n",
    "from sklearn.linear_model import LogisticRegression\n",
    "from sklearn.feature_selection import SelectKBest\n",
    "from sklearn.feature_selection import chi2\n",
    "from sklearn.utils import resample\n",
    "from sklearn.feature_selection import RFE\n",
    "from sklearn.ensemble import RandomForestClassifier\n",
    "from sklearn.datasets import load_iris\n",
    "from sklearn.preprocessing import LabelEncoder\n",
    "from unicodedata import normalize\n",
    "from bs4 import BeautifulSoup\n",
    "from time import sleep\n",
    "from datetime import datetime   \n",
    "from pandas.plotting import scatter_matrix\n",
    "from sklearn.linear_model import LinearRegression\n",
    "from sklearn.preprocessing import PolynomialFeatures\n",
    "from sklearn.neighbors import KNeighborsRegressor\n",
    "from sklearn.neighbors import KNeighborsClassifier\n",
    "from sklearn.model_selection import train_test_split\n",
    "from sklearn.preprocessing import StandardScaler\n",
    "from sklearn.metrics import mean_squared_error, mean_absolute_error, r2_score"
   ]
  },
  {
   "cell_type": "markdown",
   "metadata": {},
   "source": [
    "By preparing large data sets for later encounters, this method saves a lot of memory space and speeds up data processing."
   ]
  },
  {
   "cell_type": "code",
   "execution_count": 3,
   "metadata": {
    "execution": {
     "iopub.execute_input": "2023-05-17T07:10:32.538107Z",
     "iopub.status.busy": "2023-05-17T07:10:32.537070Z",
     "iopub.status.idle": "2023-05-17T07:10:32.553969Z",
     "shell.execute_reply": "2023-05-17T07:10:32.552837Z",
     "shell.execute_reply.started": "2023-05-17T07:10:32.538058Z"
    }
   },
   "outputs": [
    {
     "name": "stdout",
     "output_type": "stream",
     "text": [
      "CPU times: user 6 µs, sys: 1 µs, total: 7 µs\n",
      "Wall time: 11.4 µs\n"
     ]
    }
   ],
   "source": [
    "%%time\n",
    "def reduce_mem_usage(df, verbose=True):\n",
    "    numerics = ['int16', 'int32', 'int64', 'float16', 'float32', 'float64']\n",
    "    start_mem = df.memory_usage().sum() / 1024**2    \n",
    "    for col in df.columns:\n",
    "        col_type = df[col].dtypes\n",
    "        if col_type in numerics:\n",
    "            c_min = df[col].min()\n",
    "            c_max = df[col].max()\n",
    "            if str(col_type)[:3] == 'int':\n",
    "                if c_min > np.iinfo(np.int8).min and c_max < np.iinfo(np.int8).max:\n",
    "                    df[col] = df[col].astype(np.int8)\n",
    "                elif c_min > np.iinfo(np.int16).min and c_max < np.iinfo(np.int16).max:\n",
    "                    df[col] = df[col].astype(np.int16)\n",
    "                elif c_min > np.iinfo(np.int32).min and c_max < np.iinfo(np.int32).max:\n",
    "                    df[col] = df[col].astype(np.int32)\n",
    "                elif c_min > np.iinfo(np.int64).min and c_max < np.iinfo(np.int64).max:\n",
    "                    df[col] = df[col].astype(np.int64)  \n",
    "            else:\n",
    "                if c_min > np.finfo(np.float16).min and c_max < np.finfo(np.float16).max:\n",
    "                    df[col] = df[col].astype(np.float16)\n",
    "                elif c_min > np.finfo(np.float32).min and c_max < np.finfo(np.float32).max:\n",
    "                    df[col] = df[col].astype(np.float32)\n",
    "                else:\n",
    "                    df[col] = df[col].astype(np.float64)    \n",
    "    end_mem = df.memory_usage().sum() / 1024**2\n",
    "    if verbose: print('Mem. usage decreased to {:5.2f} Mb ({:.1f}% reduction)'.format(end_mem, 100 * (start_mem - end_mem) / start_mem))\n",
    "    return df\n"
   ]
  },
  {
   "cell_type": "markdown",
   "metadata": {},
   "source": [
    "#### Load and analyse data\n"
   ]
  },
  {
   "cell_type": "markdown",
   "metadata": {},
   "source": [
    "##### Loading data and performing basic analysis\n",
    "Importing the required data and analysing the basic information from the two training tables\n",
    "(train_transaction & train_identity)"
   ]
  },
  {
   "cell_type": "code",
   "execution_count": 4,
   "metadata": {
    "execution": {
     "iopub.execute_input": "2023-05-17T07:10:32.558199Z",
     "iopub.status.busy": "2023-05-17T07:10:32.557767Z",
     "iopub.status.idle": "2023-05-17T07:11:38.441041Z",
     "shell.execute_reply": "2023-05-17T07:11:38.438424Z",
     "shell.execute_reply.started": "2023-05-17T07:10:32.558159Z"
    }
   },
   "outputs": [
    {
     "name": "stdout",
     "output_type": "stream",
     "text": [
      "CPU times: user 53 s, sys: 12.7 s, total: 1min 5s\n",
      "Wall time: 1min 5s\n"
     ]
    }
   ],
   "source": [
    "%%time\n",
    "train_transaction = pd.read_csv('/kaggle/input/ieee-fraud-detection/train_transaction.csv')\n",
    "test_transaction = pd.read_csv('/kaggle/input/ieee-fraud-detection/test_transaction.csv')\n",
    "train_identity = pd.read_csv('/kaggle/input/ieee-fraud-detection/train_identity.csv')\n",
    "test_identity = pd.read_csv('/kaggle/input/ieee-fraud-detection/test_identity.csv')"
   ]
  },
  {
   "cell_type": "code",
   "execution_count": 5,
   "metadata": {
    "execution": {
     "iopub.execute_input": "2023-05-17T07:11:38.443449Z",
     "iopub.status.busy": "2023-05-17T07:11:38.443054Z",
     "iopub.status.idle": "2023-05-17T07:11:38.487215Z",
     "shell.execute_reply": "2023-05-17T07:11:38.485824Z",
     "shell.execute_reply.started": "2023-05-17T07:11:38.443417Z"
    }
   },
   "outputs": [
    {
     "data": {
      "text/html": [
       "<div>\n",
       "<style scoped>\n",
       "    .dataframe tbody tr th:only-of-type {\n",
       "        vertical-align: middle;\n",
       "    }\n",
       "\n",
       "    .dataframe tbody tr th {\n",
       "        vertical-align: top;\n",
       "    }\n",
       "\n",
       "    .dataframe thead th {\n",
       "        text-align: right;\n",
       "    }\n",
       "</style>\n",
       "<table border=\"1\" class=\"dataframe\">\n",
       "  <thead>\n",
       "    <tr style=\"text-align: right;\">\n",
       "      <th></th>\n",
       "      <th>TransactionID</th>\n",
       "      <th>isFraud</th>\n",
       "      <th>TransactionDT</th>\n",
       "      <th>TransactionAmt</th>\n",
       "      <th>ProductCD</th>\n",
       "      <th>card1</th>\n",
       "      <th>card2</th>\n",
       "      <th>card3</th>\n",
       "      <th>card4</th>\n",
       "      <th>card5</th>\n",
       "      <th>...</th>\n",
       "      <th>V330</th>\n",
       "      <th>V331</th>\n",
       "      <th>V332</th>\n",
       "      <th>V333</th>\n",
       "      <th>V334</th>\n",
       "      <th>V335</th>\n",
       "      <th>V336</th>\n",
       "      <th>V337</th>\n",
       "      <th>V338</th>\n",
       "      <th>V339</th>\n",
       "    </tr>\n",
       "  </thead>\n",
       "  <tbody>\n",
       "    <tr>\n",
       "      <th>0</th>\n",
       "      <td>2987000</td>\n",
       "      <td>0</td>\n",
       "      <td>86400</td>\n",
       "      <td>68.5</td>\n",
       "      <td>W</td>\n",
       "      <td>13926</td>\n",
       "      <td>NaN</td>\n",
       "      <td>150.0</td>\n",
       "      <td>discover</td>\n",
       "      <td>142.0</td>\n",
       "      <td>...</td>\n",
       "      <td>NaN</td>\n",
       "      <td>NaN</td>\n",
       "      <td>NaN</td>\n",
       "      <td>NaN</td>\n",
       "      <td>NaN</td>\n",
       "      <td>NaN</td>\n",
       "      <td>NaN</td>\n",
       "      <td>NaN</td>\n",
       "      <td>NaN</td>\n",
       "      <td>NaN</td>\n",
       "    </tr>\n",
       "    <tr>\n",
       "      <th>1</th>\n",
       "      <td>2987001</td>\n",
       "      <td>0</td>\n",
       "      <td>86401</td>\n",
       "      <td>29.0</td>\n",
       "      <td>W</td>\n",
       "      <td>2755</td>\n",
       "      <td>404.0</td>\n",
       "      <td>150.0</td>\n",
       "      <td>mastercard</td>\n",
       "      <td>102.0</td>\n",
       "      <td>...</td>\n",
       "      <td>NaN</td>\n",
       "      <td>NaN</td>\n",
       "      <td>NaN</td>\n",
       "      <td>NaN</td>\n",
       "      <td>NaN</td>\n",
       "      <td>NaN</td>\n",
       "      <td>NaN</td>\n",
       "      <td>NaN</td>\n",
       "      <td>NaN</td>\n",
       "      <td>NaN</td>\n",
       "    </tr>\n",
       "    <tr>\n",
       "      <th>2</th>\n",
       "      <td>2987002</td>\n",
       "      <td>0</td>\n",
       "      <td>86469</td>\n",
       "      <td>59.0</td>\n",
       "      <td>W</td>\n",
       "      <td>4663</td>\n",
       "      <td>490.0</td>\n",
       "      <td>150.0</td>\n",
       "      <td>visa</td>\n",
       "      <td>166.0</td>\n",
       "      <td>...</td>\n",
       "      <td>NaN</td>\n",
       "      <td>NaN</td>\n",
       "      <td>NaN</td>\n",
       "      <td>NaN</td>\n",
       "      <td>NaN</td>\n",
       "      <td>NaN</td>\n",
       "      <td>NaN</td>\n",
       "      <td>NaN</td>\n",
       "      <td>NaN</td>\n",
       "      <td>NaN</td>\n",
       "    </tr>\n",
       "    <tr>\n",
       "      <th>3</th>\n",
       "      <td>2987003</td>\n",
       "      <td>0</td>\n",
       "      <td>86499</td>\n",
       "      <td>50.0</td>\n",
       "      <td>W</td>\n",
       "      <td>18132</td>\n",
       "      <td>567.0</td>\n",
       "      <td>150.0</td>\n",
       "      <td>mastercard</td>\n",
       "      <td>117.0</td>\n",
       "      <td>...</td>\n",
       "      <td>NaN</td>\n",
       "      <td>NaN</td>\n",
       "      <td>NaN</td>\n",
       "      <td>NaN</td>\n",
       "      <td>NaN</td>\n",
       "      <td>NaN</td>\n",
       "      <td>NaN</td>\n",
       "      <td>NaN</td>\n",
       "      <td>NaN</td>\n",
       "      <td>NaN</td>\n",
       "    </tr>\n",
       "    <tr>\n",
       "      <th>4</th>\n",
       "      <td>2987004</td>\n",
       "      <td>0</td>\n",
       "      <td>86506</td>\n",
       "      <td>50.0</td>\n",
       "      <td>H</td>\n",
       "      <td>4497</td>\n",
       "      <td>514.0</td>\n",
       "      <td>150.0</td>\n",
       "      <td>mastercard</td>\n",
       "      <td>102.0</td>\n",
       "      <td>...</td>\n",
       "      <td>0.0</td>\n",
       "      <td>0.0</td>\n",
       "      <td>0.0</td>\n",
       "      <td>0.0</td>\n",
       "      <td>0.0</td>\n",
       "      <td>0.0</td>\n",
       "      <td>0.0</td>\n",
       "      <td>0.0</td>\n",
       "      <td>0.0</td>\n",
       "      <td>0.0</td>\n",
       "    </tr>\n",
       "  </tbody>\n",
       "</table>\n",
       "<p>5 rows × 394 columns</p>\n",
       "</div>"
      ],
      "text/plain": [
       "   TransactionID  isFraud  TransactionDT  TransactionAmt ProductCD  card1  \\\n",
       "0        2987000        0          86400            68.5         W  13926   \n",
       "1        2987001        0          86401            29.0         W   2755   \n",
       "2        2987002        0          86469            59.0         W   4663   \n",
       "3        2987003        0          86499            50.0         W  18132   \n",
       "4        2987004        0          86506            50.0         H   4497   \n",
       "\n",
       "   card2  card3       card4  card5  ... V330  V331  V332  V333  V334 V335  \\\n",
       "0    NaN  150.0    discover  142.0  ...  NaN   NaN   NaN   NaN   NaN  NaN   \n",
       "1  404.0  150.0  mastercard  102.0  ...  NaN   NaN   NaN   NaN   NaN  NaN   \n",
       "2  490.0  150.0        visa  166.0  ...  NaN   NaN   NaN   NaN   NaN  NaN   \n",
       "3  567.0  150.0  mastercard  117.0  ...  NaN   NaN   NaN   NaN   NaN  NaN   \n",
       "4  514.0  150.0  mastercard  102.0  ...  0.0   0.0   0.0   0.0   0.0  0.0   \n",
       "\n",
       "  V336  V337  V338  V339  \n",
       "0  NaN   NaN   NaN   NaN  \n",
       "1  NaN   NaN   NaN   NaN  \n",
       "2  NaN   NaN   NaN   NaN  \n",
       "3  NaN   NaN   NaN   NaN  \n",
       "4  0.0   0.0   0.0   0.0  \n",
       "\n",
       "[5 rows x 394 columns]"
      ]
     },
     "execution_count": 5,
     "metadata": {},
     "output_type": "execute_result"
    }
   ],
   "source": [
    "train_transaction.head()"
   ]
  },
  {
   "cell_type": "code",
   "execution_count": 6,
   "metadata": {
    "execution": {
     "iopub.execute_input": "2023-05-17T07:11:38.489438Z",
     "iopub.status.busy": "2023-05-17T07:11:38.488972Z",
     "iopub.status.idle": "2023-05-17T07:11:38.719491Z",
     "shell.execute_reply": "2023-05-17T07:11:38.718128Z",
     "shell.execute_reply.started": "2023-05-17T07:11:38.489406Z"
    }
   },
   "outputs": [
    {
     "name": "stdout",
     "output_type": "stream",
     "text": [
      "<class 'pandas.core.frame.DataFrame'>\n",
      "RangeIndex: 590540 entries, 0 to 590539\n",
      "Columns: 394 entries, TransactionID to V339\n",
      "dtypes: float64(376), int64(4), object(14)\n",
      "memory usage: 1.7+ GB\n"
     ]
    }
   ],
   "source": [
    "train_transaction.info()"
   ]
  },
  {
   "cell_type": "code",
   "execution_count": 7,
   "metadata": {
    "execution": {
     "iopub.execute_input": "2023-05-17T07:11:38.721835Z",
     "iopub.status.busy": "2023-05-17T07:11:38.721306Z",
     "iopub.status.idle": "2023-05-17T07:11:38.759202Z",
     "shell.execute_reply": "2023-05-17T07:11:38.757609Z",
     "shell.execute_reply.started": "2023-05-17T07:11:38.721789Z"
    }
   },
   "outputs": [
    {
     "data": {
      "text/html": [
       "<div>\n",
       "<style scoped>\n",
       "    .dataframe tbody tr th:only-of-type {\n",
       "        vertical-align: middle;\n",
       "    }\n",
       "\n",
       "    .dataframe tbody tr th {\n",
       "        vertical-align: top;\n",
       "    }\n",
       "\n",
       "    .dataframe thead th {\n",
       "        text-align: right;\n",
       "    }\n",
       "</style>\n",
       "<table border=\"1\" class=\"dataframe\">\n",
       "  <thead>\n",
       "    <tr style=\"text-align: right;\">\n",
       "      <th></th>\n",
       "      <th>TransactionID</th>\n",
       "      <th>id_01</th>\n",
       "      <th>id_02</th>\n",
       "      <th>id_03</th>\n",
       "      <th>id_04</th>\n",
       "      <th>id_05</th>\n",
       "      <th>id_06</th>\n",
       "      <th>id_07</th>\n",
       "      <th>id_08</th>\n",
       "      <th>id_09</th>\n",
       "      <th>...</th>\n",
       "      <th>id_31</th>\n",
       "      <th>id_32</th>\n",
       "      <th>id_33</th>\n",
       "      <th>id_34</th>\n",
       "      <th>id_35</th>\n",
       "      <th>id_36</th>\n",
       "      <th>id_37</th>\n",
       "      <th>id_38</th>\n",
       "      <th>DeviceType</th>\n",
       "      <th>DeviceInfo</th>\n",
       "    </tr>\n",
       "  </thead>\n",
       "  <tbody>\n",
       "    <tr>\n",
       "      <th>0</th>\n",
       "      <td>2987004</td>\n",
       "      <td>0.0</td>\n",
       "      <td>70787.0</td>\n",
       "      <td>NaN</td>\n",
       "      <td>NaN</td>\n",
       "      <td>NaN</td>\n",
       "      <td>NaN</td>\n",
       "      <td>NaN</td>\n",
       "      <td>NaN</td>\n",
       "      <td>NaN</td>\n",
       "      <td>...</td>\n",
       "      <td>samsung browser 6.2</td>\n",
       "      <td>32.0</td>\n",
       "      <td>2220x1080</td>\n",
       "      <td>match_status:2</td>\n",
       "      <td>T</td>\n",
       "      <td>F</td>\n",
       "      <td>T</td>\n",
       "      <td>T</td>\n",
       "      <td>mobile</td>\n",
       "      <td>SAMSUNG SM-G892A Build/NRD90M</td>\n",
       "    </tr>\n",
       "    <tr>\n",
       "      <th>1</th>\n",
       "      <td>2987008</td>\n",
       "      <td>-5.0</td>\n",
       "      <td>98945.0</td>\n",
       "      <td>NaN</td>\n",
       "      <td>NaN</td>\n",
       "      <td>0.0</td>\n",
       "      <td>-5.0</td>\n",
       "      <td>NaN</td>\n",
       "      <td>NaN</td>\n",
       "      <td>NaN</td>\n",
       "      <td>...</td>\n",
       "      <td>mobile safari 11.0</td>\n",
       "      <td>32.0</td>\n",
       "      <td>1334x750</td>\n",
       "      <td>match_status:1</td>\n",
       "      <td>T</td>\n",
       "      <td>F</td>\n",
       "      <td>F</td>\n",
       "      <td>T</td>\n",
       "      <td>mobile</td>\n",
       "      <td>iOS Device</td>\n",
       "    </tr>\n",
       "    <tr>\n",
       "      <th>2</th>\n",
       "      <td>2987010</td>\n",
       "      <td>-5.0</td>\n",
       "      <td>191631.0</td>\n",
       "      <td>0.0</td>\n",
       "      <td>0.0</td>\n",
       "      <td>0.0</td>\n",
       "      <td>0.0</td>\n",
       "      <td>NaN</td>\n",
       "      <td>NaN</td>\n",
       "      <td>0.0</td>\n",
       "      <td>...</td>\n",
       "      <td>chrome 62.0</td>\n",
       "      <td>NaN</td>\n",
       "      <td>NaN</td>\n",
       "      <td>NaN</td>\n",
       "      <td>F</td>\n",
       "      <td>F</td>\n",
       "      <td>T</td>\n",
       "      <td>T</td>\n",
       "      <td>desktop</td>\n",
       "      <td>Windows</td>\n",
       "    </tr>\n",
       "    <tr>\n",
       "      <th>3</th>\n",
       "      <td>2987011</td>\n",
       "      <td>-5.0</td>\n",
       "      <td>221832.0</td>\n",
       "      <td>NaN</td>\n",
       "      <td>NaN</td>\n",
       "      <td>0.0</td>\n",
       "      <td>-6.0</td>\n",
       "      <td>NaN</td>\n",
       "      <td>NaN</td>\n",
       "      <td>NaN</td>\n",
       "      <td>...</td>\n",
       "      <td>chrome 62.0</td>\n",
       "      <td>NaN</td>\n",
       "      <td>NaN</td>\n",
       "      <td>NaN</td>\n",
       "      <td>F</td>\n",
       "      <td>F</td>\n",
       "      <td>T</td>\n",
       "      <td>T</td>\n",
       "      <td>desktop</td>\n",
       "      <td>NaN</td>\n",
       "    </tr>\n",
       "    <tr>\n",
       "      <th>4</th>\n",
       "      <td>2987016</td>\n",
       "      <td>0.0</td>\n",
       "      <td>7460.0</td>\n",
       "      <td>0.0</td>\n",
       "      <td>0.0</td>\n",
       "      <td>1.0</td>\n",
       "      <td>0.0</td>\n",
       "      <td>NaN</td>\n",
       "      <td>NaN</td>\n",
       "      <td>0.0</td>\n",
       "      <td>...</td>\n",
       "      <td>chrome 62.0</td>\n",
       "      <td>24.0</td>\n",
       "      <td>1280x800</td>\n",
       "      <td>match_status:2</td>\n",
       "      <td>T</td>\n",
       "      <td>F</td>\n",
       "      <td>T</td>\n",
       "      <td>T</td>\n",
       "      <td>desktop</td>\n",
       "      <td>MacOS</td>\n",
       "    </tr>\n",
       "  </tbody>\n",
       "</table>\n",
       "<p>5 rows × 41 columns</p>\n",
       "</div>"
      ],
      "text/plain": [
       "   TransactionID  id_01     id_02  id_03  id_04  id_05  id_06  id_07  id_08  \\\n",
       "0        2987004    0.0   70787.0    NaN    NaN    NaN    NaN    NaN    NaN   \n",
       "1        2987008   -5.0   98945.0    NaN    NaN    0.0   -5.0    NaN    NaN   \n",
       "2        2987010   -5.0  191631.0    0.0    0.0    0.0    0.0    NaN    NaN   \n",
       "3        2987011   -5.0  221832.0    NaN    NaN    0.0   -6.0    NaN    NaN   \n",
       "4        2987016    0.0    7460.0    0.0    0.0    1.0    0.0    NaN    NaN   \n",
       "\n",
       "   id_09  ...                id_31  id_32      id_33           id_34  id_35  \\\n",
       "0    NaN  ...  samsung browser 6.2   32.0  2220x1080  match_status:2      T   \n",
       "1    NaN  ...   mobile safari 11.0   32.0   1334x750  match_status:1      T   \n",
       "2    0.0  ...          chrome 62.0    NaN        NaN             NaN      F   \n",
       "3    NaN  ...          chrome 62.0    NaN        NaN             NaN      F   \n",
       "4    0.0  ...          chrome 62.0   24.0   1280x800  match_status:2      T   \n",
       "\n",
       "  id_36 id_37  id_38  DeviceType                     DeviceInfo  \n",
       "0     F     T      T      mobile  SAMSUNG SM-G892A Build/NRD90M  \n",
       "1     F     F      T      mobile                     iOS Device  \n",
       "2     F     T      T     desktop                        Windows  \n",
       "3     F     T      T     desktop                            NaN  \n",
       "4     F     T      T     desktop                          MacOS  \n",
       "\n",
       "[5 rows x 41 columns]"
      ]
     },
     "execution_count": 7,
     "metadata": {},
     "output_type": "execute_result"
    }
   ],
   "source": [
    "train_identity.head()"
   ]
  },
  {
   "cell_type": "code",
   "execution_count": 8,
   "metadata": {
    "execution": {
     "iopub.execute_input": "2023-05-17T07:11:38.761333Z",
     "iopub.status.busy": "2023-05-17T07:11:38.760740Z",
     "iopub.status.idle": "2023-05-17T07:11:39.555440Z",
     "shell.execute_reply": "2023-05-17T07:11:39.554555Z",
     "shell.execute_reply.started": "2023-05-17T07:11:38.761299Z"
    }
   },
   "outputs": [
    {
     "name": "stdout",
     "output_type": "stream",
     "text": [
      "<class 'pandas.core.frame.DataFrame'>\n",
      "RangeIndex: 144233 entries, 0 to 144232\n",
      "Data columns (total 41 columns):\n",
      " #   Column         Non-Null Count   Dtype  \n",
      "---  ------         --------------   -----  \n",
      " 0   TransactionID  144233 non-null  int64  \n",
      " 1   id_01          144233 non-null  float64\n",
      " 2   id_02          140872 non-null  float64\n",
      " 3   id_03          66324 non-null   float64\n",
      " 4   id_04          66324 non-null   float64\n",
      " 5   id_05          136865 non-null  float64\n",
      " 6   id_06          136865 non-null  float64\n",
      " 7   id_07          5155 non-null    float64\n",
      " 8   id_08          5155 non-null    float64\n",
      " 9   id_09          74926 non-null   float64\n",
      " 10  id_10          74926 non-null   float64\n",
      " 11  id_11          140978 non-null  float64\n",
      " 12  id_12          144233 non-null  object \n",
      " 13  id_13          127320 non-null  float64\n",
      " 14  id_14          80044 non-null   float64\n",
      " 15  id_15          140985 non-null  object \n",
      " 16  id_16          129340 non-null  object \n",
      " 17  id_17          139369 non-null  float64\n",
      " 18  id_18          45113 non-null   float64\n",
      " 19  id_19          139318 non-null  float64\n",
      " 20  id_20          139261 non-null  float64\n",
      " 21  id_21          5159 non-null    float64\n",
      " 22  id_22          5169 non-null    float64\n",
      " 23  id_23          5169 non-null    object \n",
      " 24  id_24          4747 non-null    float64\n",
      " 25  id_25          5132 non-null    float64\n",
      " 26  id_26          5163 non-null    float64\n",
      " 27  id_27          5169 non-null    object \n",
      " 28  id_28          140978 non-null  object \n",
      " 29  id_29          140978 non-null  object \n",
      " 30  id_30          77565 non-null   object \n",
      " 31  id_31          140282 non-null  object \n",
      " 32  id_32          77586 non-null   float64\n",
      " 33  id_33          73289 non-null   object \n",
      " 34  id_34          77805 non-null   object \n",
      " 35  id_35          140985 non-null  object \n",
      " 36  id_36          140985 non-null  object \n",
      " 37  id_37          140985 non-null  object \n",
      " 38  id_38          140985 non-null  object \n",
      " 39  DeviceType     140810 non-null  object \n",
      " 40  DeviceInfo     118666 non-null  object \n",
      "dtypes: float64(23), int64(1), object(17)\n",
      "memory usage: 45.1+ MB\n"
     ]
    }
   ],
   "source": [
    "train_identity.info()"
   ]
  },
  {
   "cell_type": "markdown",
   "metadata": {},
   "source": [
    "Visual analysis of the number of cases between fraudulent and non-fraudulent payments and the percentage between them using histograms and pie charts."
   ]
  },
  {
   "cell_type": "code",
   "execution_count": 9,
   "metadata": {
    "execution": {
     "iopub.execute_input": "2023-05-17T07:11:39.557415Z",
     "iopub.status.busy": "2023-05-17T07:11:39.556829Z",
     "iopub.status.idle": "2023-05-17T07:11:39.803941Z",
     "shell.execute_reply": "2023-05-17T07:11:39.802719Z",
     "shell.execute_reply.started": "2023-05-17T07:11:39.557382Z"
    }
   },
   "outputs": [
    {
     "data": {
      "image/png": "[encoded data removed]",
      "text/plain": [
       "<Figure size 640x480 with 1 Axes>"
      ]
     },
     "metadata": {},
     "output_type": "display_data"
    }
   ],
   "source": [
    "sns.countplot(x=train_transaction[\"isFraud\"]);\n",
    "plt.show()"
   ]
  },
  {
   "cell_type": "code",
   "execution_count": 10,
   "metadata": {
    "execution": {
     "iopub.execute_input": "2023-05-17T07:11:39.805890Z",
     "iopub.status.busy": "2023-05-17T07:11:39.805481Z",
     "iopub.status.idle": "2023-05-17T07:11:39.997475Z",
     "shell.execute_reply": "2023-05-17T07:11:39.994757Z",
     "shell.execute_reply.started": "2023-05-17T07:11:39.805856Z"
    }
   },
   "outputs": [
    {
     "data": {
      "image/png": "[encoded data removed]",
      "text/plain": [
       "<Figure size 600x600 with 1 Axes>"
      ]
     },
     "metadata": {},
     "output_type": "display_data"
    }
   ],
   "source": [
    "plt.figure(figsize=(6, 6))\n",
    "sns.set(style=\"whitegrid\")\n",
    "\n",
    "fraud_counts = train_transaction[\"isFraud\"].value_counts()\n",
    "\n",
    "plt.pie(fraud_counts, labels=fraud_counts.index, autopct='%1.1f%%', startangle=90)\n",
    "\n",
    "plt.title(\"Fraud Distribution\")\n",
    "\n",
    "plt.show()"
   ]
  },
  {
   "cell_type": "markdown",
   "metadata": {},
   "source": [
    "As can be seen from the above graph, there is a significant difference in the number of fraudulent and non-fraudulent payment cases, with non-fraudulent payment cases being much higher than fraudulent payment cases. Because of the significant difference between the sample sizes, subsequent data sampling is required to ensure a balanced sample size for both data types."
   ]
  },
  {
   "cell_type": "markdown",
   "metadata": {},
   "source": [
    "#### Data integration and analysis"
   ]
  },
  {
   "cell_type": "code",
   "execution_count": 11,
   "metadata": {
    "execution": {
     "iopub.execute_input": "2023-05-17T07:11:40.002030Z",
     "iopub.status.busy": "2023-05-17T07:11:40.000862Z",
     "iopub.status.idle": "2023-05-17T07:11:42.011164Z",
     "shell.execute_reply": "2023-05-17T07:11:42.009921Z",
     "shell.execute_reply.started": "2023-05-17T07:11:40.001958Z"
    }
   },
   "outputs": [
    {
     "name": "stdout",
     "output_type": "stream",
     "text": [
      "CPU times: user 1.4 s, sys: 652 ms, total: 2.05 s\n",
      "Wall time: 2 s\n"
     ]
    },
    {
     "data": {
      "text/plain": [
       "(590540, 434)"
      ]
     },
     "execution_count": 11,
     "metadata": {},
     "output_type": "execute_result"
    }
   ],
   "source": [
    "%%time\n",
    "train_df = train_transaction.merge(train_identity, how=\"left\", on=\"TransactionID\")\n",
    "del train_transaction, train_identity\n",
    "train_df.shape"
   ]
  },
  {
   "cell_type": "code",
   "execution_count": 12,
   "metadata": {
    "execution": {
     "iopub.execute_input": "2023-05-17T07:11:42.012919Z",
     "iopub.status.busy": "2023-05-17T07:11:42.012559Z",
     "iopub.status.idle": "2023-05-17T07:11:43.841863Z",
     "shell.execute_reply": "2023-05-17T07:11:43.840619Z",
     "shell.execute_reply.started": "2023-05-17T07:11:42.012888Z"
    }
   },
   "outputs": [
    {
     "name": "stdout",
     "output_type": "stream",
     "text": [
      "CPU times: user 1.19 s, sys: 641 ms, total: 1.83 s\n",
      "Wall time: 1.82 s\n"
     ]
    },
    {
     "data": {
      "text/plain": [
       "(506691, 433)"
      ]
     },
     "execution_count": 12,
     "metadata": {},
     "output_type": "execute_result"
    }
   ],
   "source": [
    "%%time\n",
    "test_df = test_transaction.merge(test_identity, how=\"left\", on=\"TransactionID\")\n",
    "del test_transaction, test_identity\n",
    "test_df.shape"
   ]
  },
  {
   "cell_type": "code",
   "execution_count": 13,
   "metadata": {
    "execution": {
     "iopub.execute_input": "2023-05-17T07:11:43.848231Z",
     "iopub.status.busy": "2023-05-17T07:11:43.847806Z",
     "iopub.status.idle": "2023-05-17T07:11:44.265071Z",
     "shell.execute_reply": "2023-05-17T07:11:44.263555Z",
     "shell.execute_reply.started": "2023-05-17T07:11:43.848196Z"
    }
   },
   "outputs": [
    {
     "data": {
      "image/png": "[encoded data removed]",
      "text/plain": [
       "<Figure size 640x480 with 1 Axes>"
      ]
     },
     "metadata": {},
     "output_type": "display_data"
    }
   ],
   "source": [
    "plt.hist(train_df['TransactionDT'], label='Train')\n",
    "plt.hist(test_df['TransactionDT'], label='Test')\n",
    "plt.title('Transaction Timestamp')\n",
    "plt.show()\n"
   ]
  },
  {
   "cell_type": "markdown",
   "metadata": {},
   "source": [
    "The above will train_transaction and train_identity merged into train_df, test_transaction, and test_identity merged into test_df, and delete the data set before merging to free up memory space. The above histogram can be seen in the training data train_df time is before the test data test_df; there is a time gap between the two, but also to do this step is to prevent confusion between the two lists of the time, and thus affect the subsequent experiments."
   ]
  },
  {
   "cell_type": "markdown",
   "metadata": {},
   "source": [
    "#### Data cleansing"
   ]
  },
  {
   "cell_type": "markdown",
   "metadata": {},
   "source": [
    "##### Narrowing the range of features\n",
    "The feature is considered meaningless if there are too many missing values in a data column. The list of features with more than 20 percent missing values is removed, thus narrowing the range of features selected."
   ]
  },
  {
   "cell_type": "code",
   "execution_count": 14,
   "metadata": {
    "execution": {
     "iopub.execute_input": "2023-05-17T07:11:44.267342Z",
     "iopub.status.busy": "2023-05-17T07:11:44.266957Z",
     "iopub.status.idle": "2023-05-17T07:11:57.990147Z",
     "shell.execute_reply": "2023-05-17T07:11:57.988259Z",
     "shell.execute_reply.started": "2023-05-17T07:11:44.267308Z"
    }
   },
   "outputs": [
    {
     "name": "stdout",
     "output_type": "stream",
     "text": [
      "(590540, 182)\n",
      "(506691, 200)\n"
     ]
    }
   ],
   "source": [
    "mv1 = train_df.isnull().sum()/len(train_df)\n",
    "train_df = train_df.drop(columns=mv1[mv1>0.2].index)\n",
    "\n",
    "mv2 = test_df.isnull().sum()/len(test_df)\n",
    "test_df = test_df.drop(columns=mv2[mv2>0.2].index)\n",
    "\n",
    "print(train_df.shape)\n",
    "print(test_df.shape)\n"
   ]
  },
  {
   "cell_type": "markdown",
   "metadata": {},
   "source": [
    "##### Dealing with data set redundancy\n",
    "By calling the reduce_mem_usage function, reduce the amount of memory used by train_df and test_df, thus saving memory space and improving the efficiency of code execution."
   ]
  },
  {
   "cell_type": "code",
   "execution_count": 15,
   "metadata": {
    "execution": {
     "iopub.execute_input": "2023-05-17T07:11:57.992901Z",
     "iopub.status.busy": "2023-05-17T07:11:57.992400Z",
     "iopub.status.idle": "2023-05-17T07:13:02.437183Z",
     "shell.execute_reply": "2023-05-17T07:13:02.434950Z",
     "shell.execute_reply.started": "2023-05-17T07:11:57.992850Z"
    }
   },
   "outputs": [
    {
     "name": "stdout",
     "output_type": "stream",
     "text": [
      "Mem. usage decreased to 244.98 Mb (70.3% reduction)\n",
      "Mem. usage decreased to 231.94 Mb (70.1% reduction)\n",
      "CPU times: user 33.7 s, sys: 30.6 s, total: 1min 4s\n",
      "Wall time: 1min 4s\n"
     ]
    }
   ],
   "source": [
    "%%time\n",
    "train_df = reduce_mem_usage(train_df)\n",
    "test_df = reduce_mem_usage(test_df)"
   ]
  },
  {
   "cell_type": "markdown",
   "metadata": {},
   "source": [
    "##### Changing dataset indexes\n",
    "Set indexes on the train_df and test_df tables, set the index value to the \"TransactionID\" column, and apply the operation to the original DataFrame object. It can be based on the \"TransactionID\" for fast data search and operation to be more convenient for subsequent data analysis and processing."
   ]
  },
  {
   "cell_type": "code",
   "execution_count": 16,
   "metadata": {
    "execution": {
     "iopub.execute_input": "2023-05-17T07:13:02.439732Z",
     "iopub.status.busy": "2023-05-17T07:13:02.439291Z",
     "iopub.status.idle": "2023-05-17T07:13:02.459256Z",
     "shell.execute_reply": "2023-05-17T07:13:02.457925Z",
     "shell.execute_reply.started": "2023-05-17T07:13:02.439695Z"
    }
   },
   "outputs": [
    {
     "name": "stdout",
     "output_type": "stream",
     "text": [
      "CPU times: user 11.8 ms, sys: 2.33 ms, total: 14.2 ms\n",
      "Wall time: 12.2 ms\n"
     ]
    }
   ],
   "source": [
    "%%time\n",
    "train_df.set_index('TransactionID', inplace=True) \n",
    "test_df.set_index('TransactionID', inplace=True) "
   ]
  },
  {
   "cell_type": "markdown",
   "metadata": {},
   "source": [
    "##### Label encoding\n",
    "Tagging the object types of the train_df and test_df tables and converting the categorical variables to integer codes."
   ]
  },
  {
   "cell_type": "code",
   "execution_count": 17,
   "metadata": {
    "execution": {
     "iopub.execute_input": "2023-05-17T07:13:02.461806Z",
     "iopub.status.busy": "2023-05-17T07:13:02.461406Z",
     "iopub.status.idle": "2023-05-17T07:13:11.471816Z",
     "shell.execute_reply": "2023-05-17T07:13:11.470575Z",
     "shell.execute_reply.started": "2023-05-17T07:13:02.461774Z"
    }
   },
   "outputs": [
    {
     "name": "stdout",
     "output_type": "stream",
     "text": [
      "CPU times: user 8.99 s, sys: 3.69 ms, total: 9 s\n",
      "Wall time: 9 s\n"
     ]
    }
   ],
   "source": [
    "%%time\n",
    "for data in train_df.columns:\n",
    "    if train_df[data].dtype=='object':\n",
    "        lbl = LabelEncoder()\n",
    "        lbl.fit(list(train_df[data].values))\n",
    "        train_df[data] = lbl.transform(list(train_df[data].values))\n",
    "\n",
    "for data in test_df.columns:\n",
    "    if test_df[data].dtype=='object':\n",
    "        lbl = LabelEncoder()\n",
    "        lbl.fit(list(test_df[data].values))\n",
    "        test_df[data] = lbl.transform(list(test_df[data].values))"
   ]
  },
  {
   "cell_type": "markdown",
   "metadata": {},
   "source": [
    "##### Filling in missing values\n",
    "There are many ways to fill in the missing values in the list. In order to minimize the impact on the model and make it available, the median is used to fill in the missing values. (in the previous test, the -999 value was used to fill the list, which caused too much error in the model)."
   ]
  },
  {
   "cell_type": "code",
   "execution_count": 18,
   "metadata": {
    "execution": {
     "iopub.execute_input": "2023-05-17T07:13:11.473860Z",
     "iopub.status.busy": "2023-05-17T07:13:11.473508Z",
     "iopub.status.idle": "2023-05-17T07:13:26.952497Z",
     "shell.execute_reply": "2023-05-17T07:13:26.950984Z",
     "shell.execute_reply.started": "2023-05-17T07:13:11.473832Z"
    }
   },
   "outputs": [
    {
     "name": "stdout",
     "output_type": "stream",
     "text": [
      "CPU times: user 12.9 s, sys: 2.53 s, total: 15.5 s\n",
      "Wall time: 15.5 s\n"
     ]
    }
   ],
   "source": [
    "%%time\n",
    "train_df = train_df.fillna(train_df.median())\n",
    "test_df = test_df.fillna(test_df.median())"
   ]
  },
  {
   "cell_type": "markdown",
   "metadata": {},
   "source": [
    "##### Downsampling"
   ]
  },
  {
   "cell_type": "code",
   "execution_count": 19,
   "metadata": {
    "execution": {
     "iopub.execute_input": "2023-05-17T07:13:26.955833Z",
     "iopub.status.busy": "2023-05-17T07:13:26.954588Z",
     "iopub.status.idle": "2023-05-17T07:13:28.109619Z",
     "shell.execute_reply": "2023-05-17T07:13:28.108623Z",
     "shell.execute_reply.started": "2023-05-17T07:13:26.955783Z"
    }
   },
   "outputs": [
    {
     "data": {
      "image/png": "[encoded data removed]",
      "text/plain": [
       "<Figure size 640x480 with 1 Axes>"
      ]
     },
     "metadata": {},
     "output_type": "display_data"
    },
    {
     "name": "stdout",
     "output_type": "stream",
     "text": [
      "CPU times: user 1.14 s, sys: 247 ms, total: 1.39 s\n",
      "Wall time: 1.15 s\n"
     ]
    }
   ],
   "source": [
    "%%time\n",
    "df_majority = train_df[train_df['isFraud'] == 0]\n",
    "df_minority = train_df[train_df['isFraud'] == 1]\n",
    "\n",
    "size_minority = len(df_minority)\n",
    "\n",
    "df_majority_downsampled = resample(df_majority,\n",
    "                                   replace=False,  \n",
    "                                   n_samples=size_minority,\n",
    "                                   random_state=42)\n",
    "\n",
    "\n",
    "df_downsampled = pd.concat([df_majority_downsampled, df_minority])\n",
    "\n",
    "sns.countplot(x=df_downsampled[\"isFraud\"]);\n",
    "plt.show()\n",
    "\n"
   ]
  },
  {
   "cell_type": "markdown",
   "metadata": {},
   "source": [
    "As shown above, due to the significant difference in numbers between the non-fraudulent and fraudulent samples, a random sampling of the non-fraudulent samples was used in order to ensure a balanced number of samples between the two samples, and the samples were not put back after each sampling to prevent duplication. Balancing the number of samples between the two categories helps improve the classification model's performance when dealing with unbalanced data."
   ]
  },
  {
   "cell_type": "markdown",
   "metadata": {},
   "source": [
    "##### Delete irrelevant data columns"
   ]
  },
  {
   "cell_type": "code",
   "execution_count": 20,
   "metadata": {
    "execution": {
     "iopub.execute_input": "2023-05-17T07:13:28.111734Z",
     "iopub.status.busy": "2023-05-17T07:13:28.111370Z",
     "iopub.status.idle": "2023-05-17T07:13:28.131935Z",
     "shell.execute_reply": "2023-05-17T07:13:28.130767Z",
     "shell.execute_reply.started": "2023-05-17T07:13:28.111702Z"
    }
   },
   "outputs": [],
   "source": [
    "df_downsampled1 = df_downsampled.drop(df_downsampled.columns[0], axis=1)\n"
   ]
  },
  {
   "cell_type": "markdown",
   "metadata": {},
   "source": [
    "#### Feature Screening"
   ]
  },
  {
   "cell_type": "code",
   "execution_count": 21,
   "metadata": {
    "execution": {
     "iopub.execute_input": "2023-05-17T07:13:28.134280Z",
     "iopub.status.busy": "2023-05-17T07:13:28.133699Z",
     "iopub.status.idle": "2023-05-17T07:13:35.011220Z",
     "shell.execute_reply": "2023-05-17T07:13:35.009869Z",
     "shell.execute_reply.started": "2023-05-17T07:13:28.134235Z"
    }
   },
   "outputs": [
    {
     "name": "stdout",
     "output_type": "stream",
     "text": [
      "AUC Score: 0.8157823191935816\n",
      "CPU times: user 6.86 s, sys: 5.42 ms, total: 6.86 s\n",
      "Wall time: 6.87 s\n"
     ]
    }
   ],
   "source": [
    "%%time\n",
    "X = df_downsampled1\n",
    "y = df_downsampled['isFraud']\n",
    "\n",
    "X_train, X_test, y_train, y_test = train_test_split(X, y, test_size=0.2, random_state=42)\n",
    "\n",
    "rf_classifier = RandomForestClassifier(criterion='entropy', max_features='sqrt', max_samples=0.5, min_samples_split=80)\n",
    "\n",
    "rf_classifier.fit(X_train, y_train)\n",
    "\n",
    "y_pred = rf_classifier.predict(X_test)\n",
    "\n",
    "auc_score = roc_auc_score(y_test, y_pred)\n",
    "\n",
    "print(\"AUC Score:\", auc_score)\n"
   ]
  },
  {
   "cell_type": "code",
   "execution_count": 22,
   "metadata": {
    "execution": {
     "iopub.execute_input": "2023-05-17T07:13:35.014295Z",
     "iopub.status.busy": "2023-05-17T07:13:35.013815Z",
     "iopub.status.idle": "2023-05-17T07:13:35.397527Z",
     "shell.execute_reply": "2023-05-17T07:13:35.396076Z",
     "shell.execute_reply.started": "2023-05-17T07:13:35.014250Z"
    }
   },
   "outputs": [
    {
     "data": {
      "image/png": "[encoded data removed]",
      "text/plain": [
       "<Figure size 640x480 with 1 Axes>"
      ]
     },
     "metadata": {},
     "output_type": "display_data"
    }
   ],
   "source": [
    "pd.Series(rf_classifier.feature_importances_, index=X.columns).nlargest(15).plot(kind='barh')\n",
    "plt.show()"
   ]
  },
  {
   "cell_type": "markdown",
   "metadata": {},
   "source": [
    "As the random forest model does not require normalization and normalization of the data, and thus the resulting AUC score indicates that the model has a good trade-off between TPR and FPR at different thresholds. Indicates that the model has good classification ability and can distinguish between positive and negative cases well. The displayed graphs illustrate the weight of the filtered features as a percentage. The higher the weight, the more influential the feature is."
   ]
  },
  {
   "cell_type": "markdown",
   "metadata": {},
   "source": [
    "#### Building the model"
   ]
  },
  {
   "cell_type": "markdown",
   "metadata": {},
   "source": [
    "##### Random forest model "
   ]
  },
  {
   "cell_type": "code",
   "execution_count": 23,
   "metadata": {
    "execution": {
     "iopub.execute_input": "2023-05-17T07:13:35.399440Z",
     "iopub.status.busy": "2023-05-17T07:13:35.399072Z",
     "iopub.status.idle": "2023-05-17T07:13:52.070499Z",
     "shell.execute_reply": "2023-05-17T07:13:52.069134Z",
     "shell.execute_reply.started": "2023-05-17T07:13:35.399408Z"
    }
   },
   "outputs": [
    {
     "name": "stdout",
     "output_type": "stream",
     "text": [
      "(506691, 2)\n"
     ]
    },
    {
     "data": {
      "text/html": [
       "<div>\n",
       "<style scoped>\n",
       "    .dataframe tbody tr th:only-of-type {\n",
       "        vertical-align: middle;\n",
       "    }\n",
       "\n",
       "    .dataframe tbody tr th {\n",
       "        vertical-align: top;\n",
       "    }\n",
       "\n",
       "    .dataframe thead th {\n",
       "        text-align: right;\n",
       "    }\n",
       "</style>\n",
       "<table border=\"1\" class=\"dataframe\">\n",
       "  <thead>\n",
       "    <tr style=\"text-align: right;\">\n",
       "      <th></th>\n",
       "      <th>TransactionID</th>\n",
       "      <th>isFraud</th>\n",
       "    </tr>\n",
       "  </thead>\n",
       "  <tbody>\n",
       "    <tr>\n",
       "      <th>0</th>\n",
       "      <td>3663549</td>\n",
       "      <td>0.202710</td>\n",
       "    </tr>\n",
       "    <tr>\n",
       "      <th>1</th>\n",
       "      <td>3663550</td>\n",
       "      <td>0.209137</td>\n",
       "    </tr>\n",
       "    <tr>\n",
       "      <th>2</th>\n",
       "      <td>3663551</td>\n",
       "      <td>0.352743</td>\n",
       "    </tr>\n",
       "    <tr>\n",
       "      <th>3</th>\n",
       "      <td>3663552</td>\n",
       "      <td>0.164177</td>\n",
       "    </tr>\n",
       "    <tr>\n",
       "      <th>4</th>\n",
       "      <td>3663553</td>\n",
       "      <td>0.341098</td>\n",
       "    </tr>\n",
       "  </tbody>\n",
       "</table>\n",
       "</div>"
      ],
      "text/plain": [
       "   TransactionID   isFraud\n",
       "0        3663549  0.202710\n",
       "1        3663550  0.209137\n",
       "2        3663551  0.352743\n",
       "3        3663552  0.164177\n",
       "4        3663553  0.341098"
      ]
     },
     "execution_count": 23,
     "metadata": {},
     "output_type": "execute_result"
    }
   ],
   "source": [
    "rf_result = pd.DataFrame(columns=[\"TransactionID\",\"isFraud\"])\n",
    "test_df = test_df.reindex(columns=X_train.columns, fill_value=0)\n",
    "predictions = rf_classifier.predict_proba(test_df)\n",
    "rf_result['isFraud'] = predictions[:, 1]\n",
    "rf_result['TransactionID'] = test_df.index.values\n",
    "\n",
    "rf_result.to_csv('rf(result).csv', index=False)\n",
    "print(rf_result.shape)\n",
    "rf_result.head()"
   ]
  },
  {
   "cell_type": "markdown",
   "metadata": {},
   "source": [
    "The private score of this random forest model is 0.885595, and the public score is 0.904909, which indicates that the value screened by this model is very close to the result of the competition and that the feature result screened by the random forest model is meaningful."
   ]
  },
  {
   "cell_type": "markdown",
   "metadata": {},
   "source": [
    "##### knn model"
   ]
  },
  {
   "cell_type": "markdown",
   "metadata": {},
   "source": [
    "Based on the features selected by the random forest model, the two most influential features, \"C13\" and \"C14,\" were selected to build the knn model. Due to the characteristics of the knn model, \"C13\" and \"C14\" were standardization and normalization in the training and test data."
   ]
  },
  {
   "cell_type": "code",
   "execution_count": 24,
   "metadata": {
    "execution": {
     "iopub.execute_input": "2023-05-17T07:13:52.073073Z",
     "iopub.status.busy": "2023-05-17T07:13:52.072598Z",
     "iopub.status.idle": "2023-05-17T07:13:52.084932Z",
     "shell.execute_reply": "2023-05-17T07:13:52.083414Z",
     "shell.execute_reply.started": "2023-05-17T07:13:52.073029Z"
    }
   },
   "outputs": [
    {
     "name": "stdout",
     "output_type": "stream",
     "text": [
      "CPU times: user 4.98 ms, sys: 774 µs, total: 5.75 ms\n",
      "Wall time: 4.57 ms\n"
     ]
    }
   ],
   "source": [
    "%%time\n",
    "df_train = pd.DataFrame(df_downsampled,columns=[\"C13\"])\n",
    "df_train[\"C14\"] =df_downsampled['C14']\n",
    "df_test = pd.DataFrame(test_df, columns=[\"C13\"])\n",
    "df_test[\"C14\"] =test_df[\"C14\"]"
   ]
  },
  {
   "cell_type": "code",
   "execution_count": 25,
   "metadata": {
    "execution": {
     "iopub.execute_input": "2023-05-17T07:13:52.088004Z",
     "iopub.status.busy": "2023-05-17T07:13:52.086757Z",
     "iopub.status.idle": "2023-05-17T07:13:52.147335Z",
     "shell.execute_reply": "2023-05-17T07:13:52.145866Z",
     "shell.execute_reply.started": "2023-05-17T07:13:52.087964Z"
    }
   },
   "outputs": [
    {
     "name": "stdout",
     "output_type": "stream",
     "text": [
      "CPU times: user 47.4 ms, sys: 1.12 ms, total: 48.5 ms\n",
      "Wall time: 47.5 ms\n"
     ]
    }
   ],
   "source": [
    "%%time\n",
    "scaler = StandardScaler(with_std=False)\n",
    "df_train[\"C13\"] = scaler.fit_transform(df_train[\"C13\"].values.reshape(-1, 1))\n",
    "df_train[\"C14\"] = scaler.fit_transform(df_train[\"C14\"].values.reshape(-1, 1))\n",
    "df_test['C13'] = scaler.fit_transform(test_df['C13'].values.reshape(-1, 1))\n",
    "df_test['C14'] = scaler.fit_transform(test_df['C14'].values.reshape(-1, 1))"
   ]
  },
  {
   "cell_type": "code",
   "execution_count": 26,
   "metadata": {
    "execution": {
     "iopub.execute_input": "2023-05-17T07:13:52.150158Z",
     "iopub.status.busy": "2023-05-17T07:13:52.149499Z",
     "iopub.status.idle": "2023-05-17T07:13:52.235174Z",
     "shell.execute_reply": "2023-05-17T07:13:52.233886Z",
     "shell.execute_reply.started": "2023-05-17T07:13:52.150094Z"
    }
   },
   "outputs": [
    {
     "name": "stdout",
     "output_type": "stream",
     "text": [
      "CPU times: user 75.3 ms, sys: 1.6 ms, total: 76.9 ms\n",
      "Wall time: 76.5 ms\n"
     ]
    }
   ],
   "source": [
    "%%time\n",
    "\n",
    "def min_max_normalize(data):\n",
    "    min_val = np.min(data)\n",
    "    max_val = np.max(data)\n",
    "    normalized = (data - min_val) / (max_val - min_val)\n",
    "    return normalized\n",
    "\n",
    "df_train[\"C13\"] = min_max_normalize(df_train[\"C13\"])\n",
    "df_train[\"C14\"] = min_max_normalize(df_train[\"C14\"])\n",
    "df_test['C13'] = min_max_normalize(df_test[\"C13\"])\n",
    "df_test['C14'] = min_max_normalize(df_test[\"C14\"])"
   ]
  },
  {
   "cell_type": "code",
   "execution_count": 27,
   "metadata": {
    "execution": {
     "iopub.execute_input": "2023-05-17T07:13:52.239152Z",
     "iopub.status.busy": "2023-05-17T07:13:52.238766Z",
     "iopub.status.idle": "2023-05-17T07:14:00.524290Z",
     "shell.execute_reply": "2023-05-17T07:14:00.522701Z",
     "shell.execute_reply.started": "2023-05-17T07:13:52.239122Z"
    }
   },
   "outputs": [
    {
     "data": {
      "image/png": "[encoded data removed]",
      "text/plain": [
       "<Figure size 640x480 with 1 Axes>"
      ]
     },
     "metadata": {},
     "output_type": "display_data"
    }
   ],
   "source": [
    "df_train = df_train.join(df_downsampled['isFraud'])\n",
    "plt.scatter(df_test['C13'], df_test['C14'], c='blue', label='df_test', alpha=0.3)\n",
    "\n",
    "plt.scatter(df_train.loc[df_train['isFraud'] == 0, 'C13'], df_train.loc[df_train['isFraud'] == 0, 'C14'], c='red', label='df_train (0)', alpha=0.3)\n",
    "plt.scatter(df_train.loc[df_train['isFraud'] == 1, 'C13'], df_train.loc[df_train['isFraud'] == 1, 'C14'], c='green', label='df_train (1)', alpha=0.3)\n",
    "\n",
    "plt.legend()\n",
    "\n",
    "plt.xlabel('X-axis')\n",
    "plt.ylabel('Y-axis')\n",
    "plt.title('Scatter Plot')\n",
    "\n",
    "plt.show()"
   ]
  },
  {
   "cell_type": "markdown",
   "metadata": {},
   "source": [
    "The plot illustrates the relationship between fraudulent transactions in the test data, the training data, and the non-fraudulent transactions, which gives a more intuitive understanding of the knn model."
   ]
  },
  {
   "cell_type": "code",
   "execution_count": 28,
   "metadata": {
    "execution": {
     "iopub.execute_input": "2023-05-17T07:14:00.526072Z",
     "iopub.status.busy": "2023-05-17T07:14:00.525677Z",
     "iopub.status.idle": "2023-05-17T07:15:18.524465Z",
     "shell.execute_reply": "2023-05-17T07:15:18.523370Z",
     "shell.execute_reply.started": "2023-05-17T07:14:00.526039Z"
    }
   },
   "outputs": [
    {
     "name": "stdout",
     "output_type": "stream",
     "text": [
      "CPU times: user 1min 17s, sys: 17.3 ms, total: 1min 17s\n",
      "Wall time: 1min 17s\n"
     ]
    },
    {
     "data": {
      "text/html": [
       "<div>\n",
       "<style scoped>\n",
       "    .dataframe tbody tr th:only-of-type {\n",
       "        vertical-align: middle;\n",
       "    }\n",
       "\n",
       "    .dataframe tbody tr th {\n",
       "        vertical-align: top;\n",
       "    }\n",
       "\n",
       "    .dataframe thead th {\n",
       "        text-align: right;\n",
       "    }\n",
       "</style>\n",
       "<table border=\"1\" class=\"dataframe\">\n",
       "  <thead>\n",
       "    <tr style=\"text-align: right;\">\n",
       "      <th></th>\n",
       "      <th>n_neighbors</th>\n",
       "      <th>MSE</th>\n",
       "    </tr>\n",
       "  </thead>\n",
       "  <tbody>\n",
       "    <tr>\n",
       "      <th>23</th>\n",
       "      <td>47</td>\n",
       "      <td>0.353617</td>\n",
       "    </tr>\n",
       "  </tbody>\n",
       "</table>\n",
       "</div>"
      ],
      "text/plain": [
       "    n_neighbors       MSE\n",
       "23           47  0.353617"
      ]
     },
     "execution_count": 28,
     "metadata": {},
     "output_type": "execute_result"
    }
   ],
   "source": [
    "%%time\n",
    "X = np.vstack((df_train[\"C13\"] ,df_train[\"C14\"])).T\n",
    "y = df_train['isFraud']\n",
    "\n",
    "n_neighbors_values = list(range(1, 201,2))\n",
    "results = []\n",
    "X_train, X_test, y_train, y_test = train_test_split(X, y, test_size=0.2, random_state=42)\n",
    "for n_neighbors in n_neighbors_values:\n",
    "    knn = KNeighborsClassifier(n_neighbors=n_neighbors)\n",
    "    knn.fit(X_train, y_train)\n",
    "    y_pred = knn.predict(X_test)\n",
    "    \n",
    "    mse = mean_squared_error(y_test, y_pred)\n",
    "    results.append({'n_neighbors': n_neighbors, 'MSE': mse})\n",
    "\n",
    "results_df = pd.DataFrame(results)\n",
    "\n",
    "matching_rows = results_df[results_df[\"MSE\"] == results_df['MSE'].min() ]\n",
    "matching_rows\n"
   ]
  },
  {
   "cell_type": "code",
   "execution_count": 29,
   "metadata": {
    "execution": {
     "iopub.execute_input": "2023-05-17T07:15:18.527707Z",
     "iopub.status.busy": "2023-05-17T07:15:18.526674Z",
     "iopub.status.idle": "2023-05-17T07:15:18.983115Z",
     "shell.execute_reply": "2023-05-17T07:15:18.981797Z",
     "shell.execute_reply.started": "2023-05-17T07:15:18.527667Z"
    }
   },
   "outputs": [
    {
     "data": {
      "image/png": "[encoded data removed]",
      "text/plain": [
       "<Figure size 640x480 with 1 Axes>"
      ]
     },
     "metadata": {},
     "output_type": "display_data"
    }
   ],
   "source": [
    "plt.plot(results_df['n_neighbors'], results_df['MSE'])\n",
    "plt.xlabel('X-axis')\n",
    "plt.ylabel('Y-axis')\n",
    "plt.title('Line Chart')\n",
    "\n",
    "lowest_index = results_df['MSE'].idxmin()\n",
    "lowest_value = results_df['MSE'].min()\n",
    "\n",
    "plt.scatter(results_df['n_neighbors'][lowest_index], lowest_value, color='red', label='Lowest Point')\n",
    "plt.annotate(f\"({results_df['n_neighbors'][lowest_index]}, {lowest_value})\", \n",
    "             xy=(results_df['n_neighbors'][lowest_index], lowest_value),\n",
    "             xytext=(results_df['n_neighbors'][lowest_index]+5, lowest_value),\n",
    "             arrowprops=dict(facecolor='black', arrowstyle='->'),\n",
    "             fontsize=8)\n",
    "\n",
    "plt.legend()\n",
    "plt.show()"
   ]
  },
  {
   "cell_type": "markdown",
   "metadata": {},
   "source": [
    "The image plotted in the line graph illustrates the relationship between the different choices of n_neighbors values and the MSE values. n_neighbors values in the odd list from 1 to 200, with the lowest MSE value, are the optimal n_neighbors values for this knn model."
   ]
  },
  {
   "cell_type": "code",
   "execution_count": 30,
   "metadata": {
    "execution": {
     "iopub.execute_input": "2023-05-17T07:15:18.984867Z",
     "iopub.status.busy": "2023-05-17T07:15:18.984469Z",
     "iopub.status.idle": "2023-05-17T07:15:23.399132Z",
     "shell.execute_reply": "2023-05-17T07:15:23.397907Z",
     "shell.execute_reply.started": "2023-05-17T07:15:18.984835Z"
    }
   },
   "outputs": [],
   "source": [
    "n_neighbors = matching_rows['n_neighbors'].values[0]\n",
    "p_value=list(range(1,5))\n",
    "p_results = []\n",
    "X_train, X_test, y_train, y_test = train_test_split(X, y, test_size=0.2, random_state=42)\n",
    "for p in p_value:\n",
    "    knn = KNeighborsClassifier(n_neighbors=n_neighbors ,p = p)\n",
    "    knn.fit(X_train, y_train)\n",
    "    y_pred = knn.predict(X_test)\n",
    "    \n",
    "    mse = mean_squared_error(y_test, y_pred)\n",
    "    p_results.append({'n_neighbors': n_neighbors,'p':p ,'MSE': mse})\n",
    "\n",
    "p_results = pd.DataFrame(p_results) \n",
    "matching_rows1 = p_results[p_results[\"MSE\"] == p_results['MSE'].min() ]"
   ]
  },
  {
   "cell_type": "code",
   "execution_count": 31,
   "metadata": {
    "execution": {
     "iopub.execute_input": "2023-05-17T07:15:23.400911Z",
     "iopub.status.busy": "2023-05-17T07:15:23.400555Z",
     "iopub.status.idle": "2023-05-17T07:15:23.884435Z",
     "shell.execute_reply": "2023-05-17T07:15:23.883209Z",
     "shell.execute_reply.started": "2023-05-17T07:15:23.400879Z"
    }
   },
   "outputs": [
    {
     "data": {
      "image/png": "[encoded data removed]",
      "text/plain": [
       "<Figure size 640x480 with 1 Axes>"
      ]
     },
     "metadata": {},
     "output_type": "display_data"
    }
   ],
   "source": [
    "plt.plot(p_results['p'], p_results['MSE'])\n",
    "plt.xlabel('X-axis')\n",
    "plt.ylabel('Y-axis')\n",
    "plt.title('Line Chart')\n",
    "\n",
    "lowest_index = p_results['MSE'].idxmin()\n",
    "lowest_value = p_results['MSE'].min()\n",
    "\n",
    "plt.scatter(p_results['p'][lowest_index], lowest_value, color='red', label='Lowest Point')\n",
    "plt.annotate(f\"({p_results['p'][lowest_index]}, {lowest_value})\", \n",
    "             xy=(p_results['p'][lowest_index], lowest_value),\n",
    "             xytext=(p_results['p'][lowest_index]+5, lowest_value),\n",
    "             arrowprops=dict(facecolor='black', arrowstyle='->'),\n",
    "             fontsize=8)\n",
    "\n",
    "plt.legend()\n",
    "plt.show()"
   ]
  },
  {
   "cell_type": "markdown",
   "metadata": {},
   "source": [
    "The line plot illustrates the relationship between different p values and the MSE value for a fixed value of n_neighbors. The value of p is the best distance algorithm for the knn model with the lowest MSE value on the list from 1 to 4."
   ]
  },
  {
   "cell_type": "code",
   "execution_count": 32,
   "metadata": {
    "execution": {
     "iopub.execute_input": "2023-05-17T07:15:23.887097Z",
     "iopub.status.busy": "2023-05-17T07:15:23.886320Z",
     "iopub.status.idle": "2023-05-17T07:15:51.173892Z",
     "shell.execute_reply": "2023-05-17T07:15:51.172500Z",
     "shell.execute_reply.started": "2023-05-17T07:15:23.887054Z"
    }
   },
   "outputs": [
    {
     "name": "stdout",
     "output_type": "stream",
     "text": [
      "CPU times: user 26.8 s, sys: 442 ms, total: 27.2 s\n",
      "Wall time: 27.3 s\n"
     ]
    }
   ],
   "source": [
    "%%time\n",
    "p = matching_rows1['p'].values[0]\n",
    "X_train, X_test, y_train, y_test = train_test_split(X, y, test_size=0.2, random_state=42)\n",
    "knn = KNeighborsClassifier(n_neighbors = n_neighbors,p=p)\n",
    "knn.fit(X_train, y_train)\n",
    "A1 = np.column_stack((df_test['C13'], df_test['C14']))\n",
    "X_test = np.array(A1)\n",
    "y_pred = knn.predict(X_test)"
   ]
  },
  {
   "cell_type": "code",
   "execution_count": 33,
   "metadata": {
    "execution": {
     "iopub.execute_input": "2023-05-17T07:15:51.176099Z",
     "iopub.status.busy": "2023-05-17T07:15:51.175623Z",
     "iopub.status.idle": "2023-05-17T07:16:21.376361Z",
     "shell.execute_reply": "2023-05-17T07:16:21.375398Z",
     "shell.execute_reply.started": "2023-05-17T07:15:51.176050Z"
    }
   },
   "outputs": [
    {
     "name": "stdout",
     "output_type": "stream",
     "text": [
      "CPU times: user 29.1 s, sys: 986 ms, total: 30.1 s\n",
      "Wall time: 30.2 s\n"
     ]
    }
   ],
   "source": [
    "%%time\n",
    "neighbors_labels = knn.predict_proba(X_test)\n",
    "probabilities = knn.predict_proba(X_test)[:, 1]\n",
    "result_df = pd.DataFrame({'isFraud': probabilities})\n",
    "result_df['TransactionID'] = test_df.index.values\n",
    "result_df = result_df.reindex(columns=['TransactionID', 'isFraud'])\n",
    "result_df.to_csv('knn(result).csv', index=False)"
   ]
  },
  {
   "cell_type": "markdown",
   "metadata": {},
   "source": [
    "This knn model, which finally determines the p-value and n_neighbors values, has a Private Score of 0.695315 and a Public Score of 0.754563."
   ]
  },
  {
   "cell_type": "markdown",
   "metadata": {},
   "source": [
    "##### Naive Bayes classifier"
   ]
  },
  {
   "cell_type": "markdown",
   "metadata": {},
   "source": [
    "Again, the data is standardized and normalized"
   ]
  },
  {
   "cell_type": "code",
   "execution_count": 34,
   "metadata": {
    "execution": {
     "iopub.execute_input": "2023-05-17T07:16:21.378051Z",
     "iopub.status.busy": "2023-05-17T07:16:21.377703Z",
     "iopub.status.idle": "2023-05-17T07:16:23.875588Z",
     "shell.execute_reply": "2023-05-17T07:16:23.874330Z",
     "shell.execute_reply.started": "2023-05-17T07:16:21.378021Z"
    }
   },
   "outputs": [
    {
     "name": "stdout",
     "output_type": "stream",
     "text": [
      "CPU times: user 1.92 s, sys: 572 ms, total: 2.49 s\n",
      "Wall time: 2.49 s\n"
     ]
    }
   ],
   "source": [
    "%%time\n",
    "All = df_downsampled.drop(['isFraud'], axis=1)\n",
    "test = test_df\n",
    "\n",
    "scaler = StandardScaler()\n",
    "NB_test = pd.DataFrame(test, columns=test.columns)\n",
    "NB_All = pd.DataFrame(All, columns=All.columns)\n",
    "\n",
    "scaler = MinMaxScaler()\n",
    "NB_test= scaler.fit_transform(NB_test)\n",
    "NB_All = scaler.fit_transform(NB_All)\n",
    "\n",
    "NB_All = pd.DataFrame(NB_All, columns = All.columns)\n",
    "NB_test = pd.DataFrame(NB_test, columns = test.columns)"
   ]
  },
  {
   "cell_type": "code",
   "execution_count": 35,
   "metadata": {
    "execution": {
     "iopub.execute_input": "2023-05-17T07:16:23.878728Z",
     "iopub.status.busy": "2023-05-17T07:16:23.877275Z",
     "iopub.status.idle": "2023-05-17T07:16:23.963860Z",
     "shell.execute_reply": "2023-05-17T07:16:23.962546Z",
     "shell.execute_reply.started": "2023-05-17T07:16:23.878681Z"
    }
   },
   "outputs": [
    {
     "name": "stdout",
     "output_type": "stream",
     "text": [
      "Cross-validation fold 1: 0.4929833051052504\n",
      "Cross-validation fold 2: 0.48614640048396857\n",
      "Cross-validation fold 3: 0.4846944948578342\n",
      "Cross-validation fold 4: 0.5010284331518451\n",
      "Cross-validation fold 5: 0.4957047791893527\n",
      "Average accuracy: 0.49211148255765014\n"
     ]
    }
   ],
   "source": [
    "X = NB_All[['C13','C14','C1']]\n",
    "y = df_train['isFraud']\n",
    "classifier = GaussianNB()\n",
    "scores = cross_val_score(classifier, X, y, cv=5, scoring='accuracy')\n",
    "for i, score in enumerate(scores):\n",
    "    print(f\"Cross-validation fold {i+1}: {score}\")\n",
    "print(f\"Average accuracy: {scores.mean()}\")"
   ]
  },
  {
   "cell_type": "code",
   "execution_count": 36,
   "metadata": {
    "execution": {
     "iopub.execute_input": "2023-05-17T07:16:23.967139Z",
     "iopub.status.busy": "2023-05-17T07:16:23.966767Z",
     "iopub.status.idle": "2023-05-17T07:16:23.997724Z",
     "shell.execute_reply": "2023-05-17T07:16:23.996471Z",
     "shell.execute_reply.started": "2023-05-17T07:16:23.967109Z"
    }
   },
   "outputs": [
    {
     "name": "stdout",
     "output_type": "stream",
     "text": [
      "Accuracy: 0.49697556254536657\n"
     ]
    }
   ],
   "source": [
    "X = NB_All[['C13','C14','C1']]\n",
    "y = df_train['isFraud']\n",
    "\n",
    "X_train, X_test, y_train, y_test = train_test_split(X, y, test_size=0.2, random_state=42)\n",
    "\n",
    "classifier = GaussianNB()\n",
    "\n",
    "classifier.fit(X_train, y_train)\n",
    "\n",
    "y_pred = classifier.predict(X_test)\n",
    "\n",
    "accuracy = accuracy_score(y_test, y_pred)\n",
    "print(\"Accuracy:\", accuracy)"
   ]
  },
  {
   "cell_type": "markdown",
   "metadata": {},
   "source": [
    "In both cases, we used the train_test_split function to predict the labels in the test set and calculate the accuracy score and the cross_val_score function to perform k-fold cross-validation to calculate the average accuracy score, which is 0.49, indicating that we only predicted half of the values correctly."
   ]
  },
  {
   "cell_type": "code",
   "execution_count": 37,
   "metadata": {
    "execution": {
     "iopub.execute_input": "2023-05-17T07:16:23.999652Z",
     "iopub.status.busy": "2023-05-17T07:16:23.999062Z",
     "iopub.status.idle": "2023-05-17T07:16:30.589816Z",
     "shell.execute_reply": "2023-05-17T07:16:30.588602Z",
     "shell.execute_reply.started": "2023-05-17T07:16:23.999613Z"
    }
   },
   "outputs": [],
   "source": [
    "X = NB_All[['C13','C14']]\n",
    "y = df_train['isFraud']\n",
    "\n",
    "classifier = GaussianNB()\n",
    "\n",
    "cv_results = cross_validate(classifier, X, y, cv=5, scoring='accuracy', return_estimator=True)\n",
    "best_model = cv_results['estimator'][cv_results['test_score'].argmax()]\n",
    "\n",
    "X_test = NB_test[['C13','C14']]\n",
    "\n",
    "y_pred = best_model.predict(X_test)\n",
    "y_pred_proba = best_model.predict_proba(X_test)\n",
    "\n",
    "NB_result = []\n",
    "transaction_ids =  test_df.index.values\n",
    "NB_result.append(['TransactionID', 'isFraud'])\n",
    "\n",
    "for i in range(len(transaction_ids)):\n",
    "    NB_result.append([transaction_ids[i], y_pred_proba[i][1]])\n",
    "\n",
    "NB_result = pd.DataFrame(NB_result[1:], columns=NB_result[0])\n",
    "\n",
    "NB_result.to_csv('NB(result1).csv', index=False)"
   ]
  },
  {
   "cell_type": "markdown",
   "metadata": {},
   "source": [
    "Private Score: 0.467628 Public Score:0.513113"
   ]
  },
  {
   "cell_type": "code",
   "execution_count": 38,
   "metadata": {
    "execution": {
     "iopub.execute_input": "2023-05-17T07:16:30.591751Z",
     "iopub.status.busy": "2023-05-17T07:16:30.591291Z",
     "iopub.status.idle": "2023-05-17T07:16:36.644591Z",
     "shell.execute_reply": "2023-05-17T07:16:36.643483Z",
     "shell.execute_reply.started": "2023-05-17T07:16:30.591716Z"
    }
   },
   "outputs": [],
   "source": [
    "X = NB_All[['C1','C3']]\n",
    "y = df_train['isFraud']\n",
    "\n",
    "classifier = GaussianNB()\n",
    "\n",
    "cv_results = cross_validate(classifier, X, y, cv=5, scoring='accuracy', return_estimator=True)\n",
    "best_model = cv_results['estimator'][cv_results['test_score'].argmax()]\n",
    "\n",
    "\n",
    "X_test = NB_test[['C1','C3']]\n",
    "\n",
    "y_pred = best_model.predict(X_test)\n",
    "y_pred_proba = best_model.predict_proba(X_test)\n",
    "\n",
    "NB_result = []\n",
    "transaction_ids =  test_df.index.values\n",
    "NB_result.append(['TransactionID', 'isFraud'])\n",
    "\n",
    "for i in range(len(transaction_ids)):\n",
    "    NB_result.append([transaction_ids[i], y_pred_proba[i][1]])\n",
    "\n",
    "NB_result = pd.DataFrame(NB_result[1:], columns=NB_result[0])\n",
    "\n",
    "NB_result.to_csv('NB(result2).csv', index=False)"
   ]
  },
  {
   "cell_type": "markdown",
   "metadata": {},
   "source": [
    "Private Score: 0.61167  Public Score:0.610187"
   ]
  },
  {
   "cell_type": "code",
   "execution_count": 39,
   "metadata": {
    "execution": {
     "iopub.execute_input": "2023-05-17T07:16:36.646807Z",
     "iopub.status.busy": "2023-05-17T07:16:36.645802Z",
     "iopub.status.idle": "2023-05-17T07:16:43.108017Z",
     "shell.execute_reply": "2023-05-17T07:16:43.106787Z",
     "shell.execute_reply.started": "2023-05-17T07:16:36.646766Z"
    }
   },
   "outputs": [],
   "source": [
    "X = NB_All[['C1','C4']]\n",
    "y = df_train['isFraud']\n",
    "\n",
    "classifier = GaussianNB()\n",
    "\n",
    "cv_results = cross_validate(classifier, X, y, cv=5, scoring='accuracy', return_estimator=True)\n",
    "best_model = cv_results['estimator'][cv_results['test_score'].argmax()]\n",
    "\n",
    "\n",
    "X_test = NB_test[['C1','C4']]\n",
    "\n",
    "y_pred = best_model.predict(X_test)\n",
    "y_pred_proba = best_model.predict_proba(X_test)\n",
    "\n",
    "NB_result = []\n",
    "transaction_ids =  test_df.index.values\n",
    "NB_result.append(['TransactionID', 'isFraud'])\n",
    "\n",
    "for i in range(len(transaction_ids)):\n",
    "    NB_result.append([transaction_ids[i], y_pred_proba[i][1]])\n",
    "\n",
    "NB_result = pd.DataFrame(NB_result[1:], columns=NB_result[0])\n",
    "\n",
    "NB_result.to_csv('NB(result3).csv', index=False)"
   ]
  },
  {
   "cell_type": "markdown",
   "metadata": {},
   "source": [
    "Private Score: 0.674399  Public Score:0.708019"
   ]
  },
  {
   "cell_type": "code",
   "execution_count": 40,
   "metadata": {
    "execution": {
     "iopub.execute_input": "2023-05-17T07:16:43.116261Z",
     "iopub.status.busy": "2023-05-17T07:16:43.115875Z",
     "iopub.status.idle": "2023-05-17T07:16:49.178698Z",
     "shell.execute_reply": "2023-05-17T07:16:49.177253Z",
     "shell.execute_reply.started": "2023-05-17T07:16:43.116230Z"
    }
   },
   "outputs": [],
   "source": [
    "X = NB_All[['C13','C14','C1']]\n",
    "y = df_train['isFraud']\n",
    "\n",
    "classifier = GaussianNB()\n",
    "\n",
    "\n",
    "cv_results = cross_validate(classifier, X, y, cv=5, scoring='accuracy', return_estimator=True)\n",
    "best_model = cv_results['estimator'][cv_results['test_score'].argmax()]\n",
    "\n",
    "\n",
    "\n",
    "X_test = NB_test[['C13','C14','C1']]\n",
    "\n",
    "\n",
    "y_pred = best_model.predict(X_test)\n",
    "y_pred_proba = best_model.predict_proba(X_test)\n",
    "\n",
    "NB_result = []\n",
    "transaction_ids =  test_df.index.values\n",
    "NB_result.append(['TransactionID', 'isFraud'])\n",
    "\n",
    "for i in range(len(transaction_ids)):\n",
    "    NB_result.append([transaction_ids[i], y_pred_proba[i][1]])\n",
    "\n",
    "NB_result = pd.DataFrame(NB_result[1:], columns=NB_result[0])\n",
    "\n",
    "NB_result.to_csv('NB(result4).csv', index=False)"
   ]
  },
  {
   "cell_type": "markdown",
   "metadata": {},
   "source": [
    "Private Score: 0.691338  Public Score:0.728277"
   ]
  },
  {
   "cell_type": "markdown",
   "metadata": {},
   "source": [
    "The final scores obtained from the above four groups of Naive Bayes models with different feature ranges can show that the level of feature influence and the association between features will affect the processing of the Naive Bayes model, and the independent feature relationship and the appropriate amount of features can make the naive Bayes model play the best effect."
   ]
  },
  {
   "cell_type": "markdown",
   "metadata": {},
   "source": [
    "##### (Bonus MARKS)  Cluster analysis"
   ]
  },
  {
   "cell_type": "markdown",
   "metadata": {},
   "source": [
    "In the cluster analysis, the K-means clustering algorithm is used to cluster the data set, and the Sum of Squared Errors and silhouette score of the clustering results are calculated to evaluate the K-means clustering algorithm model. Additional features from the K-means clustering algorithm are proposed into the training set for training and compared and analyzed by different models (knn and Naive Bayes classifier)."
   ]
  },
  {
   "cell_type": "markdown",
   "metadata": {},
   "source": [
    "1.Use all the features in the training set"
   ]
  },
  {
   "cell_type": "code",
   "execution_count": 41,
   "metadata": {
    "execution": {
     "iopub.execute_input": "2023-05-17T07:16:49.180579Z",
     "iopub.status.busy": "2023-05-17T07:16:49.180180Z",
     "iopub.status.idle": "2023-05-17T07:17:23.086186Z",
     "shell.execute_reply": "2023-05-17T07:17:23.081953Z",
     "shell.execute_reply.started": "2023-05-17T07:16:49.180547Z"
    }
   },
   "outputs": [
    {
     "name": "stdout",
     "output_type": "stream",
     "text": [
      "43322.106352474664\n",
      "0.3431704487291746\n"
     ]
    }
   ],
   "source": [
    "data =NB_All\n",
    "\n",
    "kmeans = KMeans(n_clusters=2, n_init=10)\n",
    "\n",
    "kmeans.fit(data)\n",
    "sse = kmeans.inertia_\n",
    "score = silhouette_score(data, kmeans.labels_)\n",
    "\n",
    "features = kmeans.transform(data)\n",
    "labels = kmeans.labels_\n",
    "\n",
    "print(sse)\n",
    "print(score)"
   ]
  },
  {
   "cell_type": "code",
   "execution_count": 42,
   "metadata": {
    "execution": {
     "iopub.execute_input": "2023-05-17T07:17:23.092444Z",
     "iopub.status.busy": "2023-05-17T07:17:23.088167Z",
     "iopub.status.idle": "2023-05-17T07:17:24.258714Z",
     "shell.execute_reply": "2023-05-17T07:17:24.257493Z",
     "shell.execute_reply.started": "2023-05-17T07:17:23.092369Z"
    }
   },
   "outputs": [
    {
     "data": {
      "image/png": "[encoded data removed]",
      "text/plain": [
       "<Figure size 640x480 with 1 Axes>"
      ]
     },
     "metadata": {},
     "output_type": "display_data"
    }
   ],
   "source": [
    "plt.scatter(features[:, 0], features[:, 1], c=labels)\n",
    "plt.xlabel('Feature 1')\n",
    "plt.ylabel('Feature 2')\n",
    "plt.show()"
   ]
  },
  {
   "cell_type": "code",
   "execution_count": 43,
   "metadata": {
    "execution": {
     "iopub.execute_input": "2023-05-17T07:17:24.260458Z",
     "iopub.status.busy": "2023-05-17T07:17:24.260088Z",
     "iopub.status.idle": "2023-05-17T07:17:27.273931Z",
     "shell.execute_reply": "2023-05-17T07:17:27.271778Z",
     "shell.execute_reply.started": "2023-05-17T07:17:24.260426Z"
    }
   },
   "outputs": [],
   "source": [
    "data = NB_All\n",
    "labels = df_train['isFraud']\n",
    "kmeans = KMeans(n_clusters=2, n_init=10)\n",
    "kmeans.fit(data)\n",
    "features = kmeans.transform(data)\n",
    "test = NB_test\n",
    "test_features = kmeans.transform(test)"
   ]
  },
  {
   "cell_type": "code",
   "execution_count": 44,
   "metadata": {
    "execution": {
     "iopub.execute_input": "2023-05-17T07:17:27.277430Z",
     "iopub.status.busy": "2023-05-17T07:17:27.276534Z",
     "iopub.status.idle": "2023-05-17T07:17:41.562985Z",
     "shell.execute_reply": "2023-05-17T07:17:41.561848Z",
     "shell.execute_reply.started": "2023-05-17T07:17:27.277364Z"
    }
   },
   "outputs": [],
   "source": [
    "knn = KNeighborsClassifier(n_neighbors=n_neighbors,p=p)\n",
    "knn.fit(features, labels)\n",
    "probabilities = knn.predict_proba(test_features)\n",
    "results = []\n",
    "for i, prob in enumerate(probabilities):\n",
    "    result = [None, prob[1]]\n",
    "    results.append(result)\n",
    "\n",
    "df = pd.DataFrame(results, columns=['TransactionID', 'isFraud'])\n",
    "df['TransactionID']=test_df.index.values\n",
    "\n",
    "df.to_csv('knn(KM_result1).csv', index=False)"
   ]
  },
  {
   "cell_type": "markdown",
   "metadata": {},
   "source": [
    "Private Score: 0.668166  Public Score:0.7574"
   ]
  },
  {
   "cell_type": "code",
   "execution_count": 45,
   "metadata": {
    "execution": {
     "iopub.execute_input": "2023-05-17T07:17:41.565217Z",
     "iopub.status.busy": "2023-05-17T07:17:41.564572Z",
     "iopub.status.idle": "2023-05-17T07:17:45.186441Z",
     "shell.execute_reply": "2023-05-17T07:17:45.185069Z",
     "shell.execute_reply.started": "2023-05-17T07:17:41.565182Z"
    }
   },
   "outputs": [],
   "source": [
    "nb = GaussianNB()\n",
    "nb.fit(features, labels)\n",
    "probabilities = nb.predict_proba(test_features)\n",
    "results = []\n",
    "for i, prob in enumerate(probabilities):\n",
    "    result = [None, prob[1]]\n",
    "    results.append(result)\n",
    "\n",
    "\n",
    "df = pd.DataFrame(results, columns=['TransactionID', 'isFraud'])\n",
    "df['TransactionID']=test_df.index.values\n",
    "\n",
    "df.to_csv('NB(KM_result1).csv', index=False)"
   ]
  },
  {
   "cell_type": "markdown",
   "metadata": {},
   "source": [
    "Private Score: 0.678011  Public Score:0.708423"
   ]
  },
  {
   "cell_type": "markdown",
   "metadata": {},
   "source": [
    "2.Use two main features in the training set"
   ]
  },
  {
   "cell_type": "code",
   "execution_count": 46,
   "metadata": {
    "execution": {
     "iopub.execute_input": "2023-05-17T07:17:45.188380Z",
     "iopub.status.busy": "2023-05-17T07:17:45.188022Z",
     "iopub.status.idle": "2023-05-17T07:18:10.745973Z",
     "shell.execute_reply": "2023-05-17T07:18:10.744607Z",
     "shell.execute_reply.started": "2023-05-17T07:17:45.188347Z"
    }
   },
   "outputs": [
    {
     "name": "stdout",
     "output_type": "stream",
     "text": [
      "61.16817901754219\n",
      "0.9790653149379916\n"
     ]
    },
    {
     "data": {
      "image/png": "[encoded data removed]",
      "text/plain": [
       "<Figure size 640x480 with 1 Axes>"
      ]
     },
     "metadata": {},
     "output_type": "display_data"
    }
   ],
   "source": [
    "data =NB_All[['C13','C14']]\n",
    "kmeans = KMeans(n_clusters=2, n_init=10)\n",
    "\n",
    "kmeans.fit(data)\n",
    "sse = kmeans.inertia_\n",
    "score = silhouette_score(data, kmeans.labels_)\n",
    "\n",
    "features = kmeans.transform(data)\n",
    "labels = kmeans.labels_\n",
    "\n",
    "print(sse)\n",
    "print(score)\n",
    "\n",
    "plt.scatter(features[:, 0], features[:, 1], c=labels)\n",
    "plt.xlabel('Feature 1')\n",
    "plt.ylabel('Feature 2')\n",
    "plt.show()"
   ]
  },
  {
   "cell_type": "code",
   "execution_count": 48,
   "metadata": {
    "execution": {
     "iopub.execute_input": "2023-05-17T07:18:39.341194Z",
     "iopub.status.busy": "2023-05-17T07:18:39.340715Z",
     "iopub.status.idle": "2023-05-17T07:18:59.157940Z",
     "shell.execute_reply": "2023-05-17T07:18:59.156744Z",
     "shell.execute_reply.started": "2023-05-17T07:18:39.341160Z"
    }
   },
   "outputs": [],
   "source": [
    "data = NB_All[['C13','C14']]\n",
    "labels = df_train['isFraud']\n",
    "kmeans = KMeans(n_clusters=2, n_init=10)\n",
    "kmeans.fit(data)\n",
    "features = kmeans.transform(data)\n",
    "test = NB_test[['C13','C14']]\n",
    "test_features = kmeans.transform(test)\n",
    "\n",
    "knn = KNeighborsClassifier(n_neighbors=n_neighbors,p=p)\n",
    "knn.fit(features, labels)\n",
    "probabilities = knn.predict_proba(test_features)\n",
    "results = []\n",
    "for i, prob in enumerate(probabilities):\n",
    "    result = [None, prob[1]]\n",
    "    results.append(result)\n",
    "\n",
    "\n",
    "df = pd.DataFrame(results, columns=['TransactionID', 'isFraud'])\n",
    "df['TransactionID']=test_df.index.values\n",
    "\n",
    "df.to_csv('knn(KM_result2).csv', index=False)\n",
    "\n"
   ]
  },
  {
   "cell_type": "markdown",
   "metadata": {},
   "source": [
    "Private Score: 0.412162  Public Score:0.425858"
   ]
  },
  {
   "cell_type": "code",
   "execution_count": 49,
   "metadata": {
    "execution": {
     "iopub.execute_input": "2023-05-17T07:19:49.503552Z",
     "iopub.status.busy": "2023-05-17T07:19:49.503090Z",
     "iopub.status.idle": "2023-05-17T07:19:53.252730Z",
     "shell.execute_reply": "2023-05-17T07:19:53.251741Z",
     "shell.execute_reply.started": "2023-05-17T07:19:49.503502Z"
    }
   },
   "outputs": [],
   "source": [
    "nb = GaussianNB()\n",
    "nb.fit(features, labels)\n",
    "probabilities = nb.predict_proba(test_features)\n",
    "results = []\n",
    "for i, prob in enumerate(probabilities):\n",
    "    result = [None, prob[1]]\n",
    "    results.append(result)\n",
    "\n",
    "\n",
    "df = pd.DataFrame(results, columns=['TransactionID', 'isFraud'])\n",
    "df['TransactionID']=test_df.index.values\n",
    "\n",
    "df.to_csv('NB(KM_result2).csv', index=False)"
   ]
  },
  {
   "cell_type": "markdown",
   "metadata": {},
   "source": [
    "Private Score: 0.584626  Public Score:0.618445"
   ]
  },
  {
   "cell_type": "markdown",
   "metadata": {},
   "source": [
    "3.Use the main multiple features in the training set"
   ]
  },
  {
   "cell_type": "code",
   "execution_count": 51,
   "metadata": {
    "execution": {
     "iopub.execute_input": "2023-05-17T07:22:14.882596Z",
     "iopub.status.busy": "2023-05-17T07:22:14.879658Z",
     "iopub.status.idle": "2023-05-17T07:22:44.528798Z",
     "shell.execute_reply": "2023-05-17T07:22:44.527601Z",
     "shell.execute_reply.started": "2023-05-17T07:22:14.882489Z"
    }
   },
   "outputs": [
    {
     "name": "stdout",
     "output_type": "stream",
     "text": [
      "440.56682699726156\n",
      "0.7844397751683811\n"
     ]
    },
    {
     "data": {
      "image/png": "[encoded data removed]",
      "text/plain": [
       "<Figure size 640x480 with 1 Axes>"
      ]
     },
     "metadata": {},
     "output_type": "display_data"
    }
   ],
   "source": [
    "data =NB_All[['C13','C14','C1','C8','TransactionAmt','V90']]\n",
    "kmeans = KMeans(n_clusters=2, n_init=10)\n",
    "\n",
    "kmeans.fit(data)\n",
    "sse = kmeans.inertia_\n",
    "score = silhouette_score(data, kmeans.labels_)\n",
    "\n",
    "features = kmeans.transform(data)\n",
    "labels = kmeans.labels_\n",
    "\n",
    "print(sse)\n",
    "print(score)\n",
    "\n",
    "plt.scatter(features[:, 0], features[:, 1], c=labels)\n",
    "plt.xlabel('Feature 1')\n",
    "plt.ylabel('Feature 2')\n",
    "plt.show()"
   ]
  },
  {
   "cell_type": "code",
   "execution_count": 52,
   "metadata": {
    "execution": {
     "iopub.execute_input": "2023-05-17T07:22:56.222127Z",
     "iopub.status.busy": "2023-05-17T07:22:56.221677Z",
     "iopub.status.idle": "2023-05-17T07:23:12.919821Z",
     "shell.execute_reply": "2023-05-17T07:23:12.918638Z",
     "shell.execute_reply.started": "2023-05-17T07:22:56.222089Z"
    }
   },
   "outputs": [],
   "source": [
    "data = NB_All[['C13','C14','C1','C8','TransactionAmt','V90']]\n",
    "labels = df_train['isFraud']\n",
    "kmeans = KMeans(n_clusters=2, n_init=10)\n",
    "kmeans.fit(data)\n",
    "features = kmeans.transform(data)\n",
    "test = NB_test[['C13','C14','C1','C8','TransactionAmt','V90']]\n",
    "test_features = kmeans.transform(test)\n",
    "\n",
    "knn = KNeighborsClassifier(n_neighbors=n_neighbors,p=p)\n",
    "knn.fit(features, labels)\n",
    "probabilities = knn.predict_proba(test_features)\n",
    "results = []\n",
    "for i, prob in enumerate(probabilities):\n",
    "    result = [None, prob[1]]\n",
    "    results.append(result)\n",
    "\n",
    "\n",
    "df = pd.DataFrame(results, columns=['TransactionID', 'isFraud'])\n",
    "df['TransactionID']=test_df.index.values\n",
    "\n",
    "df.to_csv('knn(KM_result3).csv', index=False)"
   ]
  },
  {
   "cell_type": "markdown",
   "metadata": {},
   "source": [
    "Private Score: 0.653888  Public Score:0.687996"
   ]
  },
  {
   "cell_type": "code",
   "execution_count": 53,
   "metadata": {
    "execution": {
     "iopub.execute_input": "2023-05-17T07:24:03.561231Z",
     "iopub.status.busy": "2023-05-17T07:24:03.560794Z",
     "iopub.status.idle": "2023-05-17T07:24:07.030717Z",
     "shell.execute_reply": "2023-05-17T07:24:07.029503Z",
     "shell.execute_reply.started": "2023-05-17T07:24:03.561196Z"
    }
   },
   "outputs": [],
   "source": [
    "nb = GaussianNB()\n",
    "nb.fit(features, labels)\n",
    "probabilities = nb.predict_proba(test_features)\n",
    "results = []\n",
    "for i, prob in enumerate(probabilities):\n",
    "    result = [None, prob[1]]\n",
    "    results.append(result)\n",
    "\n",
    "\n",
    "df = pd.DataFrame(results, columns=['TransactionID', 'isFraud'])\n",
    "df['TransactionID']=test_df.index.values\n",
    "\n",
    "df.to_csv('NB(KM_result3).csv', index=False)"
   ]
  },
  {
   "cell_type": "markdown",
   "metadata": {},
   "source": [
    "Private Score: 0.596434  Public Score:0.611974"
   ]
  },
  {
   "cell_type": "markdown",
   "metadata": {},
   "source": [
    "In summary, for the features extracted after clustering analysis and used in other models, the features extracted by clustering analysis have the highest scores when using all the features in the training data. In contrast, the two most essential features selected by the random forest model have the worst scores when used in other models. It shows that the clustering analysis should select the appropriate number of features to achieve the expected results and improve the accuracy. Too few features for clustering analysis will get the opposite results."
   ]
  },
  {
   "cell_type": "markdown",
   "metadata": {},
   "source": [
    "# Conclusion\n",
    "In this experiment, four large datasets  for data processing (dataset analysis, merging), data cleaning (missing values processing, sample balancing, label coding, redundancy reduction), feature selection (random forest model), and model building (knn model, Naive Bayes model, classifier model, random forest model, and K-means model )in clustering analysis, which leads to the following conclusions:\n",
    "\n",
    "1. Since the knn and NB models could not give satisfactory results, the random forest model was used to get higher scores. \n",
    "\n",
    "2. When dealing with the knn model, the value of n_neighbors and the impact of different distance metrics need to be considered, and there are two main features to choose from.\n",
    "\n",
    "3. When dealing with the NB model, the relationship between the features should be considered. The features with significant correlation between the two are classified independently, significantly affecting the model's accuracy. \n",
    "\n",
    "4. When using cluster analysis, it is necessary to select the essential features, and the number of features is appropriate to obtain more accurate results. Otherwise, it will cause too much deviation or too long operation time.\n"
   ]
  },
  {
   "cell_type": "markdown",
   "metadata": {},
   "source": [
    "![avatar](/Users/billjoker/Desktop/理解数据/作业/task3/1.png)"
   ]
  },
  {
   "cell_type": "markdown",
   "metadata": {},
   "source": [
    "![avatar](/Users/billjoker/Desktop/理解数据/作业/task3/2.png)"
   ]
  },
  {
   "cell_type": "markdown",
   "metadata": {},
   "source": [
    "![avatar](/Users/billjoker/Desktop/理解数据/作业/task3/3.png)"
   ]
  },
  {
   "cell_type": "markdown",
   "metadata": {},
   "source": [
    "![avatar](/Users/billjoker/Desktop/理解数据/作业/task3/7.png)"
   ]
  },
  {
   "cell_type": "markdown",
   "metadata": {},
   "source": [
    "# Bibliograph\n",
    "1. McKinney, W. (2022). Python for data analysis : data wrangling with pandas, numPy, and Jupyter (Third edition). O’Reilly Media, Inc.\n",
    "2. Gupta, D (2020). Intelligent data analysis : from data gathering to data comprehension. Wiley. \n",
    "3. Gujarati, D. N. (2019). Linear regression : a mathematical introduction. SAGE Publications, Inc.\n",
    "4. Lučanin, D. (2018). Jupyter Notebook for data science. PACKT Publishing.\n",
    "\n"
   ]
  }
 ],
 "metadata": {
  "kernelspec": {
   "display_name": "Python 3 (ipykernel)",
   "language": "python",
   "name": "python3"
  },
  "language_info": {
   "codemirror_mode": {
    "name": "ipython",
    "version": 3
   },
   "file_extension": ".py",
   "mimetype": "text/x-python",
   "name": "python",
   "nbconvert_exporter": "python",
   "pygments_lexer": "ipython3",
   "version": "3.11.1"
  }
 },
 "nbformat": 4,
 "nbformat_minor": 4
}
